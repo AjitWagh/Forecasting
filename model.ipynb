{
 "cells": [
  {
   "cell_type": "markdown",
   "metadata": {},
   "source": [
    "#### Importing the required libraries"
   ]
  },
  {
   "cell_type": "code",
   "execution_count": 439,
   "metadata": {},
   "outputs": [],
   "source": [
    "import pandas as pd\n",
    "import numpy as np\n",
    "from functools import reduce\n",
    "from fbprophet import Prophet\n",
    "import matplotlib.pyplot as plt\n",
    "from csv import writer\n",
    "\n",
    "plt.style.use('fivethirtyeight')"
   ]
  },
  {
   "cell_type": "code",
   "execution_count": 443,
   "metadata": {},
   "outputs": [],
   "source": [
    "# Directory path\n",
    "path = \"C:\\\\Users\\\\Ajit Wagh\\\\Desktop\\\\TimeSeries\\\\new_categories\\\\new_files\\\\*.csv\"\n",
    "path1 = \"C:\\\\Users\\\\Ajit Wagh\\\\Desktop\\\\TimeSeries\\\\new_categories\\\\new_files\\\\mape results\\\\\""
   ]
  },
  {
   "cell_type": "markdown",
   "metadata": {},
   "source": [
    "## Modeling using Prophet"
   ]
  },
  {
   "cell_type": "code",
   "execution_count": 444,
   "metadata": {},
   "outputs": [
    {
     "name": "stdout",
     "output_type": "stream",
     "text": [
      "************************ forecast analysis *********************************\n"
     ]
    }
   ],
   "source": [
    "# Function to forecast the data on monthly frequency\n",
    "def future_prediction(path, path1):\n",
    "    # Iterate through input files\n",
    "    for fname in glob.glob(path):\n",
    "        forecast_df=pd.read_csv(fname)\n",
    "        df1 = forecast_df.copy()\n",
    "        \n",
    "        forecast_df = forecast_df[['order_purchase_date','price']]\n",
    "        # Converting df into 'ds','y' format for forecasting\n",
    "        forecast_df = forecast_df.rename(columns = {'order_purchase_date':'ds','price':'y'})\n",
    "        forecast_df['ds'] = forecast_df['ds'].str[:7]\n",
    "        forecast_df = forecast_df.groupby('ds')['y'].mean().reset_index()\n",
    "        forecast_df['ds']=pd.to_datetime(forecast_df['ds'], errors='coerce')\n",
    "        \n",
    "        m = Prophet(yearly_seasonality=True)\n",
    "        m.fit(forecast_df)\n",
    "        future = m.make_future_dataframe(periods=12, freq='MS')\n",
    "        forecast_ndays = m.predict(future)\n",
    "        data_frames = [forecast_df,forecast_ndays]\n",
    "        forecast_data_ndays = reduce(lambda left,right: pd.merge(left,right, on=['ds'],how='outer'),data_frames)\n",
    "        forecast_data1_ndays = forecast_data_ndays.loc[:,['ds','y','yhat','yhat_lower','yhat_upper']]\n",
    "        forecast_data1_ndays1 = forecast_data1_ndays.iloc[:-12,:]\n",
    "        err = np.mean(np.abs((forecast_data1_ndays.y - forecast_data1_ndays.yhat) / forecast_data1_ndays.y)) * 100\n",
    "        forecast_data1_ndays['mape'] = err\n",
    "        forecast_data1_ndays['product_category_name']=df1['product_category_name']\n",
    "        a = forecast_data1_ndays['product_category_name'].iloc[0]\n",
    "        forecast_data1_ndays = forecast_data1_ndays.rename(columns = {'ds':'order_purchase_date','y':'price'})\n",
    "        forecast_data1_ndays = forecast_data1_ndays[['order_purchase_date','product_category_name','price','yhat','mape']]\n",
    "        b = str(err)\n",
    "        \n",
    "        list1 = []\n",
    "        list1.append(a)\n",
    "        list1.append(b)\n",
    "        print(list1)\n",
    "        forecast_data1_ndays.to_csv('C:\\\\Users\\\\Ajit Wagh\\\\Desktop\\\\TimeSeries\\\\new_categories\\\\new_files\\\\results\\\\'+a+'_results'+'.csv', index=False)\n",
    "        # Saving the mape resukts into the file\n",
    "        with open(path1+'mape_resultsn.csv', 'a',newline='') as f_object:\n",
    "            writer_object = writer(f_object)\n",
    "            writer_object.writerow(list1)\n",
    "            f_object.close() \n",
    "\n",
    "print(\"************************ forecast analysis *********************************\")  "
   ]
  },
  {
   "cell_type": "code",
   "execution_count": 445,
   "metadata": {},
   "outputs": [
    {
     "name": "stderr",
     "output_type": "stream",
     "text": [
      "INFO:fbprophet:Disabling weekly seasonality. Run prophet with weekly_seasonality=True to override this.\n",
      "INFO:fbprophet:Disabling daily seasonality. Run prophet with daily_seasonality=True to override this.\n",
      "INFO:fbprophet:n_changepoints greater than number of observations. Using 15.\n"
     ]
    },
    {
     "name": "stdout",
     "output_type": "stream",
     "text": [
      "['agro_industria_e_comercio', '8.081976101612713e-12']\n"
     ]
    },
    {
     "name": "stderr",
     "output_type": "stream",
     "text": [
      "INFO:fbprophet:Disabling weekly seasonality. Run prophet with weekly_seasonality=True to override this.\n",
      "INFO:fbprophet:Disabling daily seasonality. Run prophet with daily_seasonality=True to override this.\n",
      "INFO:fbprophet:n_changepoints greater than number of observations. Using 15.\n"
     ]
    },
    {
     "name": "stdout",
     "output_type": "stream",
     "text": [
      "['alimentos_bebidas', '8.161264655209396e-13']\n"
     ]
    },
    {
     "name": "stderr",
     "output_type": "stream",
     "text": [
      "INFO:fbprophet:Disabling weekly seasonality. Run prophet with weekly_seasonality=True to override this.\n",
      "INFO:fbprophet:Disabling daily seasonality. Run prophet with daily_seasonality=True to override this.\n",
      "INFO:fbprophet:n_changepoints greater than number of observations. Using 14.\n"
     ]
    },
    {
     "name": "stdout",
     "output_type": "stream",
     "text": [
      "['artigos_de_natal', '9.003866114896422e-13']\n"
     ]
    },
    {
     "name": "stderr",
     "output_type": "stream",
     "text": [
      "INFO:fbprophet:Disabling weekly seasonality. Run prophet with weekly_seasonality=True to override this.\n",
      "INFO:fbprophet:Disabling daily seasonality. Run prophet with daily_seasonality=True to override this.\n",
      "INFO:fbprophet:n_changepoints greater than number of observations. Using 15.\n"
     ]
    },
    {
     "name": "stdout",
     "output_type": "stream",
     "text": [
      "['audio', '4.270767118819968e-12']\n"
     ]
    },
    {
     "name": "stderr",
     "output_type": "stream",
     "text": [
      "INFO:fbprophet:Disabling weekly seasonality. Run prophet with weekly_seasonality=True to override this.\n",
      "INFO:fbprophet:Disabling daily seasonality. Run prophet with daily_seasonality=True to override this.\n",
      "INFO:fbprophet:n_changepoints greater than number of observations. Using 14.\n"
     ]
    },
    {
     "name": "stdout",
     "output_type": "stream",
     "text": [
      "['bebidas', '3.8754426688351397e-13']\n"
     ]
    },
    {
     "name": "stderr",
     "output_type": "stream",
     "text": [
      "INFO:fbprophet:Disabling weekly seasonality. Run prophet with weekly_seasonality=True to override this.\n",
      "INFO:fbprophet:Disabling daily seasonality. Run prophet with daily_seasonality=True to override this.\n",
      "INFO:fbprophet:n_changepoints greater than number of observations. Using 15.\n"
     ]
    },
    {
     "name": "stdout",
     "output_type": "stream",
     "text": [
      "['climatizacao', '2.000436251467877e-11']\n"
     ]
    },
    {
     "name": "stderr",
     "output_type": "stream",
     "text": [
      "INFO:fbprophet:Disabling weekly seasonality. Run prophet with weekly_seasonality=True to override this.\n",
      "INFO:fbprophet:Disabling daily seasonality. Run prophet with daily_seasonality=True to override this.\n",
      "INFO:fbprophet:n_changepoints greater than number of observations. Using 13.\n"
     ]
    },
    {
     "name": "stdout",
     "output_type": "stream",
     "text": [
      "['construcao_ferramentas_seguranca', '5.207040245984315e-13']\n"
     ]
    },
    {
     "name": "stderr",
     "output_type": "stream",
     "text": [
      "INFO:fbprophet:Disabling weekly seasonality. Run prophet with weekly_seasonality=True to override this.\n",
      "INFO:fbprophet:Disabling daily seasonality. Run prophet with daily_seasonality=True to override this.\n",
      "INFO:fbprophet:n_changepoints greater than number of observations. Using 15.\n"
     ]
    },
    {
     "name": "stdout",
     "output_type": "stream",
     "text": [
      "['eletrodomesticos', '4.782346500218671e-11']\n"
     ]
    },
    {
     "name": "stderr",
     "output_type": "stream",
     "text": [
      "INFO:fbprophet:Disabling weekly seasonality. Run prophet with weekly_seasonality=True to override this.\n",
      "INFO:fbprophet:Disabling daily seasonality. Run prophet with daily_seasonality=True to override this.\n",
      "INFO:fbprophet:n_changepoints greater than number of observations. Using 15.\n"
     ]
    },
    {
     "name": "stdout",
     "output_type": "stream",
     "text": [
      "['eletrodomesticos_2', '1.105128360784691e-11']\n"
     ]
    },
    {
     "name": "stderr",
     "output_type": "stream",
     "text": [
      "INFO:fbprophet:Disabling weekly seasonality. Run prophet with weekly_seasonality=True to override this.\n",
      "INFO:fbprophet:Disabling daily seasonality. Run prophet with daily_seasonality=True to override this.\n",
      "INFO:fbprophet:n_changepoints greater than number of observations. Using 15.\n"
     ]
    },
    {
     "name": "stdout",
     "output_type": "stream",
     "text": [
      "['eletroportateis', '6.575891335666272e-12']\n"
     ]
    },
    {
     "name": "stderr",
     "output_type": "stream",
     "text": [
      "INFO:fbprophet:Disabling weekly seasonality. Run prophet with weekly_seasonality=True to override this.\n",
      "INFO:fbprophet:Disabling daily seasonality. Run prophet with daily_seasonality=True to override this.\n",
      "INFO:fbprophet:n_changepoints greater than number of observations. Using 16.\n"
     ]
    },
    {
     "name": "stdout",
     "output_type": "stream",
     "text": [
      "['esporte_lazer', '3.1590912986415436e-12']\n"
     ]
    },
    {
     "name": "stderr",
     "output_type": "stream",
     "text": [
      "INFO:fbprophet:Disabling weekly seasonality. Run prophet with weekly_seasonality=True to override this.\n",
      "INFO:fbprophet:Disabling daily seasonality. Run prophet with daily_seasonality=True to override this.\n",
      "INFO:fbprophet:n_changepoints greater than number of observations. Using 4.\n"
     ]
    },
    {
     "name": "stdout",
     "output_type": "stream",
     "text": [
      "['fashion_roupa_infanto_juvenil', '2.075661510952292e-13']\n"
     ]
    },
    {
     "name": "stderr",
     "output_type": "stream",
     "text": [
      "INFO:fbprophet:Disabling weekly seasonality. Run prophet with weekly_seasonality=True to override this.\n",
      "INFO:fbprophet:Disabling daily seasonality. Run prophet with daily_seasonality=True to override this.\n",
      "INFO:fbprophet:n_changepoints greater than number of observations. Using 15.\n"
     ]
    },
    {
     "name": "stdout",
     "output_type": "stream",
     "text": [
      "['fashion_roupa_masculina', '1.985015552313529e-11']\n"
     ]
    },
    {
     "name": "stderr",
     "output_type": "stream",
     "text": [
      "INFO:fbprophet:Disabling weekly seasonality. Run prophet with weekly_seasonality=True to override this.\n",
      "INFO:fbprophet:Disabling daily seasonality. Run prophet with daily_seasonality=True to override this.\n",
      "INFO:fbprophet:n_changepoints greater than number of observations. Using 10.\n"
     ]
    },
    {
     "name": "stdout",
     "output_type": "stream",
     "text": [
      "['flores', '1.7531577311520434e-13']\n"
     ]
    },
    {
     "name": "stderr",
     "output_type": "stream",
     "text": [
      "INFO:fbprophet:Disabling weekly seasonality. Run prophet with weekly_seasonality=True to override this.\n",
      "INFO:fbprophet:Disabling daily seasonality. Run prophet with daily_seasonality=True to override this.\n",
      "INFO:fbprophet:n_changepoints greater than number of observations. Using 11.\n"
     ]
    },
    {
     "name": "stdout",
     "output_type": "stream",
     "text": [
      "['fraldas_higiene', '1.212118251221544e-12']\n"
     ]
    },
    {
     "name": "stderr",
     "output_type": "stream",
     "text": [
      "INFO:fbprophet:Disabling weekly seasonality. Run prophet with weekly_seasonality=True to override this.\n",
      "INFO:fbprophet:Disabling daily seasonality. Run prophet with daily_seasonality=True to override this.\n",
      "INFO:fbprophet:n_changepoints greater than number of observations. Using 15.\n"
     ]
    },
    {
     "name": "stdout",
     "output_type": "stream",
     "text": [
      "['industria_comercio_e_negocios', '8.073136986405686e-12']\n"
     ]
    },
    {
     "name": "stderr",
     "output_type": "stream",
     "text": [
      "INFO:fbprophet:Disabling weekly seasonality. Run prophet with weekly_seasonality=True to override this.\n",
      "INFO:fbprophet:Disabling daily seasonality. Run prophet with daily_seasonality=True to override this.\n",
      "INFO:fbprophet:n_changepoints greater than number of observations. Using 15.\n"
     ]
    },
    {
     "name": "stdout",
     "output_type": "stream",
     "text": [
      "['instrumentos_musicais', '1.4005247323944244e-11']\n"
     ]
    },
    {
     "name": "stderr",
     "output_type": "stream",
     "text": [
      "INFO:fbprophet:Disabling weekly seasonality. Run prophet with weekly_seasonality=True to override this.\n",
      "INFO:fbprophet:Disabling daily seasonality. Run prophet with daily_seasonality=True to override this.\n",
      "INFO:fbprophet:n_changepoints greater than number of observations. Using 7.\n"
     ]
    },
    {
     "name": "stdout",
     "output_type": "stream",
     "text": [
      "['la_cuisine', '1.910436800353432e-12']\n"
     ]
    },
    {
     "name": "stderr",
     "output_type": "stream",
     "text": [
      "INFO:fbprophet:Disabling weekly seasonality. Run prophet with weekly_seasonality=True to override this.\n",
      "INFO:fbprophet:Disabling daily seasonality. Run prophet with daily_seasonality=True to override this.\n",
      "INFO:fbprophet:n_changepoints greater than number of observations. Using 12.\n"
     ]
    },
    {
     "name": "stdout",
     "output_type": "stream",
     "text": [
      "['livros_importados', '1.2674666285207512e-12']\n"
     ]
    },
    {
     "name": "stderr",
     "output_type": "stream",
     "text": [
      "INFO:fbprophet:Disabling weekly seasonality. Run prophet with weekly_seasonality=True to override this.\n",
      "INFO:fbprophet:Disabling daily seasonality. Run prophet with daily_seasonality=True to override this.\n",
      "INFO:fbprophet:n_changepoints greater than number of observations. Using 15.\n"
     ]
    },
    {
     "name": "stdout",
     "output_type": "stream",
     "text": [
      "['market_place', '6.564247306214884e-12']\n"
     ]
    },
    {
     "name": "stderr",
     "output_type": "stream",
     "text": [
      "INFO:fbprophet:Disabling weekly seasonality. Run prophet with weekly_seasonality=True to override this.\n",
      "INFO:fbprophet:Disabling daily seasonality. Run prophet with daily_seasonality=True to override this.\n",
      "INFO:fbprophet:n_changepoints greater than number of observations. Using 12.\n"
     ]
    },
    {
     "name": "stdout",
     "output_type": "stream",
     "text": [
      "['moveis_colchao_e_estofado', '7.785126231280699e-14']\n"
     ]
    },
    {
     "name": "stderr",
     "output_type": "stream",
     "text": [
      "INFO:fbprophet:Disabling weekly seasonality. Run prophet with weekly_seasonality=True to override this.\n",
      "INFO:fbprophet:Disabling daily seasonality. Run prophet with daily_seasonality=True to override this.\n",
      "INFO:fbprophet:n_changepoints greater than number of observations. Using 15.\n"
     ]
    },
    {
     "name": "stdout",
     "output_type": "stream",
     "text": [
      "['moveis_cozinha_area_de_servico_jantar_e_jardim', '2.6431102437152348e-11']\n"
     ]
    },
    {
     "name": "stderr",
     "output_type": "stream",
     "text": [
      "INFO:fbprophet:Disabling weekly seasonality. Run prophet with weekly_seasonality=True to override this.\n",
      "INFO:fbprophet:Disabling daily seasonality. Run prophet with daily_seasonality=True to override this.\n",
      "INFO:fbprophet:n_changepoints greater than number of observations. Using 15.\n"
     ]
    },
    {
     "name": "stdout",
     "output_type": "stream",
     "text": [
      "['moveis_quarto', '1.7671531996604343e-13']\n"
     ]
    },
    {
     "name": "stderr",
     "output_type": "stream",
     "text": [
      "INFO:fbprophet:Disabling weekly seasonality. Run prophet with weekly_seasonality=True to override this.\n",
      "INFO:fbprophet:Disabling daily seasonality. Run prophet with daily_seasonality=True to override this.\n",
      "INFO:fbprophet:n_changepoints greater than number of observations. Using 13.\n"
     ]
    },
    {
     "name": "stdout",
     "output_type": "stream",
     "text": [
      "['tablets_impressao_imagem', '6.676815012668743e-12']\n"
     ]
    }
   ],
   "source": [
    "future_prediction(path, path1)"
   ]
  },
  {
   "cell_type": "markdown",
   "metadata": {},
   "source": [
    "## Validation RMSE"
   ]
  },
  {
   "cell_type": "code",
   "execution_count": null,
   "metadata": {},
   "outputs": [],
   "source": [
    "from fbprophet.diagnostics import cross_validation\n",
    "from fbprophet.diagnostics import performance_metrics\n",
    "def rmse(p):\n",
    "    #m = Prophet()\n",
    "    m = Prophet(seasonality_mode='multiplicative', mcmc_samples=300).fit(forecast_df)\n",
    "    m.fit(forecast_df)\n",
    "    df_cv = cross_validation(m, initial='90 days', period= p, horizon = '365 days')\n",
    "    #return np.sqrt(((np.array(df_cv['y']) - np.array(df_cv['yhat'])) ** 2).mean())/100\n",
    "    return np.mean(np.abs(((df_cv['y']) - (df_cv['yhat'])) / (df_cv['y']))) * 100\n",
    "\n",
    "a = rmse('30 days')\n",
    "b = rmse('90 days')\n",
    "c = rmse('180 days')\n",
    "d = rmse('365 days')\n",
    "print(\"Validation rmse for 30 days prediction is: \" + str(a))\n",
    "print(\"Validation rmse for 90 days prediction is: \" + str(b))\n",
    "print(\"Validation rmse for 180 days prediction is: \" + str(c))\n",
    "print(\"Validation rmse for 365 days prediction is: \" + str(d))"
   ]
  },
  {
   "cell_type": "markdown",
   "metadata": {},
   "source": [
    "## Test RMSE"
   ]
  },
  {
   "cell_type": "code",
   "execution_count": null,
   "metadata": {},
   "outputs": [],
   "source": [
    "def manual_test_rmse(df7,row,p):\n",
    "    df7 = forecast_df.copy()\n",
    "    dt = max(df7['ds'])\n",
    "    #df7['y_orig'] = df7['y']\n",
    "    #df7['y'] = df7['y_orig']\n",
    "    #df7['y'] = np.log(df7['y'])\n",
    "    test_data1 = df7.loc[:,['ds','y']]\n",
    "    #train_data = df7\n",
    "    test_data_val = test_data1.iloc[row: , :]\n",
    "    print(len(test_data_val))\n",
    " \n",
    "    test_data_val1 = test_data_val.loc[:,['ds','y']]\n",
    "    test_data_val2 = test_data_val1\n",
    "    #test_data_val1['y'] = np.log(test_data_val1['y'])\n",
    "    \n",
    "    p_test = Prophet()\n",
    "    p_test.fit(test_data_val1)\n",
    "    future = p_test.make_future_dataframe(periods=p)\n",
    "    forecast_test_ndays = p_test.predict(future)\n",
    "    #df7['y']=df7['y'].astype(float)\n",
    "    test_data_val1['y']=test_data_val1['y'].astype(float)\n",
    "    test_data_val1['y'] = test_data_val2['y']\n",
    "    #train_data_val1['y']=np.exp(train_data_val1['y'])\n",
    "    #forecast_test_ndays['yhat']=np.exp(forecast_test_ndays['yhat'])\n",
    "    #forecast_test_ndays['yhat_lower']=np.exp(forecast_test_ndays['yhat_lower'])\n",
    "    #forecast_test_ndays['yhat_upper']=np.exp(forecast_test_ndays['yhat_upper'])\n",
    "    forecast_test_ndays1 = forecast_test_ndays.loc[:,['ds','yhat','yhat_lower','yhat_upper']]\n",
    "    #train_data_val1.fillna(train_data_val1['y'].mean())\n",
    "    #train_merge = train_data_val1.merge(forecast_train_ndays1, on = 'ds')\n",
    "    test_data_val1['ds']=pd.to_datetime(test_data_val1['ds'], errors='coerce')\n",
    "    data_frames = [test_data_val1,forecast_test_ndays1]\n",
    "    test_merge = reduce(lambda left,right: pd.merge(left,right, on=['ds'],how='outer'),data_frames).fillna(test_data_val1['y'].mean())\n",
    "    test_merge_final = test_merge.iloc[row:, :]\n",
    "    test_merge_final['y']=test_merge_final['y'].astype(int)\n",
    "    test_merge_final['yhat']=test_merge_final['yhat'].astype(int)\n",
    "    #return np.sqrt(((test_merge_final.y - test_merge_final.yhat) ** 2).mean()),test_merge_final\n",
    "    return np.mean(np.abs((test_merge_final.y - test_merge_final.yhat) / test_merge_final.y)) * 100\n",
    "\n",
    "test_rmse7,rmse7 = manual_test_rmse(forecast_df,-7,90)\n",
    "test_rmse14,rmse14 = manual_test_rmse(forecast_df,-14,180)\n",
    "test_rmse30,rmse30 = manual_test_rmse(forecast_df,-30,365)\n",
    "print(\"************************** Manual Test RMSE for 7 days ***********************************\")\n",
    "print(\"Test RMSE for 7 days prediction is: \" ,test_rmse7)\n",
    "print('Max date in test data : ', max(rmse7['ds']))\n",
    "print('Min date in test data : ', min(rmse7['ds']))\n",
    "print('Total records in test data : ', len(rmse7)) \n",
    "print(\"************************** Manual Train RMSE for 14 days ***********************************\")\n",
    "print(\"Test RMSE for 14 days prediction is: \" ,test_rmse14)\n",
    "print('Max date in test data : ', max(rmse14['ds']))\n",
    "print('Min date in test data : ', min(rmse14['ds']))\n",
    "print('Total records in test data : ', len(rmse14)) \n",
    "print(\"************************** Manual Train RMSE for 30 days ***********************************\")\n",
    "print(\"Test RMSE for 30 days prediction is: \" ,test_rmse14)\n",
    "print('Max date in Test data : ', max(rmse30['ds']))\n",
    "print('Min date in Test data : ', min(rmse30['ds']))\n",
    "print('Total records in Test data : ', len(rmse30)) "
   ]
  },
  {
   "cell_type": "code",
   "execution_count": 305,
   "metadata": {},
   "outputs": [],
   "source": [
    "m = Prophet()\n",
    "m.fit(forecast_df)\n",
    "df_cv = cross_validation(m, initial='365 days', period= 90, horizon = '180 days')\n",
    "from fbprophet.diagnostics import performance_metrics\n",
    "df_p = performance_metrics(df_cv)\n",
    "df_p.tail()"
   ]
  }
 ],
 "metadata": {
  "kernelspec": {
   "display_name": "Python 3",
   "language": "python",
   "name": "python3"
  },
  "language_info": {
   "codemirror_mode": {
    "name": "ipython",
    "version": 3
   },
   "file_extension": ".py",
   "mimetype": "text/x-python",
   "name": "python",
   "nbconvert_exporter": "python",
   "pygments_lexer": "ipython3",
   "version": "3.8.5"
  }
 },
 "nbformat": 4,
 "nbformat_minor": 4
}
