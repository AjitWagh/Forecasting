{
 "cells": [
  {
   "cell_type": "code",
   "execution_count": 290,
   "metadata": {},
   "outputs": [],
   "source": [
    "# Import libraries\n",
    "import pandas as pd\n",
    "import numpy as np\n",
    "from functools import reduce\n",
    "from fbprophet import Prophet\n",
    "import matplotlib.pyplot as plt\n",
    "plt.style.use('fivethirtyeight')"
   ]
  },
  {
   "cell_type": "code",
   "execution_count": 291,
   "metadata": {},
   "outputs": [],
   "source": [
    "#!pip install pystan==2.19.1.1\n",
    "#!pip install pandas==1.0.4"
   ]
  },
  {
   "cell_type": "code",
   "execution_count": 292,
   "metadata": {},
   "outputs": [],
   "source": [
    "df = pd.read_csv('C:\\\\Users\\\\Ajit Wagh\\\\Desktop\\\\TimeSeries\\\\Brazilian Eccomerce Dataset\\\\product_categories\\\\pet_shop.csv')"
   ]
  },
  {
   "cell_type": "code",
   "execution_count": 293,
   "metadata": {},
   "outputs": [
    {
     "data": {
      "text/html": [
       "<div>\n",
       "<style scoped>\n",
       "    .dataframe tbody tr th:only-of-type {\n",
       "        vertical-align: middle;\n",
       "    }\n",
       "\n",
       "    .dataframe tbody tr th {\n",
       "        vertical-align: top;\n",
       "    }\n",
       "\n",
       "    .dataframe thead th {\n",
       "        text-align: right;\n",
       "    }\n",
       "</style>\n",
       "<table border=\"1\" class=\"dataframe\">\n",
       "  <thead>\n",
       "    <tr style=\"text-align: right;\">\n",
       "      <th></th>\n",
       "      <th>order_purchase_date</th>\n",
       "      <th>product_category_name</th>\n",
       "      <th>price</th>\n",
       "    </tr>\n",
       "  </thead>\n",
       "  <tbody>\n",
       "    <tr>\n",
       "      <th>0</th>\n",
       "      <td>2016-10-04</td>\n",
       "      <td>pet_shop</td>\n",
       "      <td>59.90</td>\n",
       "    </tr>\n",
       "    <tr>\n",
       "      <th>1</th>\n",
       "      <td>2016-10-05</td>\n",
       "      <td>pet_shop</td>\n",
       "      <td>94.90</td>\n",
       "    </tr>\n",
       "    <tr>\n",
       "      <th>2</th>\n",
       "      <td>2016-10-06</td>\n",
       "      <td>pet_shop</td>\n",
       "      <td>87.75</td>\n",
       "    </tr>\n",
       "    <tr>\n",
       "      <th>3</th>\n",
       "      <td>2016-10-07</td>\n",
       "      <td>pet_shop</td>\n",
       "      <td>112.99</td>\n",
       "    </tr>\n",
       "    <tr>\n",
       "      <th>4</th>\n",
       "      <td>2016-10-09</td>\n",
       "      <td>pet_shop</td>\n",
       "      <td>541.74</td>\n",
       "    </tr>\n",
       "  </tbody>\n",
       "</table>\n",
       "</div>"
      ],
      "text/plain": [
       "  order_purchase_date product_category_name   price\n",
       "0          2016-10-04              pet_shop   59.90\n",
       "1          2016-10-05              pet_shop   94.90\n",
       "2          2016-10-06              pet_shop   87.75\n",
       "3          2016-10-07              pet_shop  112.99\n",
       "4          2016-10-09              pet_shop  541.74"
      ]
     },
     "execution_count": 293,
     "metadata": {},
     "output_type": "execute_result"
    }
   ],
   "source": [
    "df.head()"
   ]
  },
  {
   "cell_type": "code",
   "execution_count": 294,
   "metadata": {},
   "outputs": [
    {
     "data": {
      "text/html": [
       "<div>\n",
       "<style scoped>\n",
       "    .dataframe tbody tr th:only-of-type {\n",
       "        vertical-align: middle;\n",
       "    }\n",
       "\n",
       "    .dataframe tbody tr th {\n",
       "        vertical-align: top;\n",
       "    }\n",
       "\n",
       "    .dataframe thead th {\n",
       "        text-align: right;\n",
       "    }\n",
       "</style>\n",
       "<table border=\"1\" class=\"dataframe\">\n",
       "  <thead>\n",
       "    <tr style=\"text-align: right;\">\n",
       "      <th></th>\n",
       "      <th>order_purchase_date</th>\n",
       "      <th>product_category_name</th>\n",
       "      <th>price</th>\n",
       "    </tr>\n",
       "  </thead>\n",
       "  <tbody>\n",
       "    <tr>\n",
       "      <th>540</th>\n",
       "      <td>2018-08-23</td>\n",
       "      <td>pet_shop</td>\n",
       "      <td>189.60</td>\n",
       "    </tr>\n",
       "    <tr>\n",
       "      <th>541</th>\n",
       "      <td>2018-08-24</td>\n",
       "      <td>pet_shop</td>\n",
       "      <td>387.70</td>\n",
       "    </tr>\n",
       "    <tr>\n",
       "      <th>542</th>\n",
       "      <td>2018-08-26</td>\n",
       "      <td>pet_shop</td>\n",
       "      <td>60.00</td>\n",
       "    </tr>\n",
       "    <tr>\n",
       "      <th>543</th>\n",
       "      <td>2018-08-27</td>\n",
       "      <td>pet_shop</td>\n",
       "      <td>187.79</td>\n",
       "    </tr>\n",
       "    <tr>\n",
       "      <th>544</th>\n",
       "      <td>2018-08-28</td>\n",
       "      <td>pet_shop</td>\n",
       "      <td>177.68</td>\n",
       "    </tr>\n",
       "  </tbody>\n",
       "</table>\n",
       "</div>"
      ],
      "text/plain": [
       "    order_purchase_date product_category_name   price\n",
       "540          2018-08-23              pet_shop  189.60\n",
       "541          2018-08-24              pet_shop  387.70\n",
       "542          2018-08-26              pet_shop   60.00\n",
       "543          2018-08-27              pet_shop  187.79\n",
       "544          2018-08-28              pet_shop  177.68"
      ]
     },
     "execution_count": 294,
     "metadata": {},
     "output_type": "execute_result"
    }
   ],
   "source": [
    "df.tail()"
   ]
  },
  {
   "cell_type": "code",
   "execution_count": 295,
   "metadata": {},
   "outputs": [
    {
     "data": {
      "text/plain": [
       "545"
      ]
     },
     "execution_count": 295,
     "metadata": {},
     "output_type": "execute_result"
    }
   ],
   "source": [
    "len(df)"
   ]
  },
  {
   "cell_type": "code",
   "execution_count": 296,
   "metadata": {},
   "outputs": [
    {
     "data": {
      "text/html": [
       "<div>\n",
       "<style scoped>\n",
       "    .dataframe tbody tr th:only-of-type {\n",
       "        vertical-align: middle;\n",
       "    }\n",
       "\n",
       "    .dataframe tbody tr th {\n",
       "        vertical-align: top;\n",
       "    }\n",
       "\n",
       "    .dataframe thead th {\n",
       "        text-align: right;\n",
       "    }\n",
       "</style>\n",
       "<table border=\"1\" class=\"dataframe\">\n",
       "  <thead>\n",
       "    <tr style=\"text-align: right;\">\n",
       "      <th></th>\n",
       "      <th>price</th>\n",
       "    </tr>\n",
       "  </thead>\n",
       "  <tbody>\n",
       "    <tr>\n",
       "      <th>count</th>\n",
       "      <td>545.000000</td>\n",
       "    </tr>\n",
       "    <tr>\n",
       "      <th>mean</th>\n",
       "      <td>393.239284</td>\n",
       "    </tr>\n",
       "    <tr>\n",
       "      <th>std</th>\n",
       "      <td>386.320520</td>\n",
       "    </tr>\n",
       "    <tr>\n",
       "      <th>min</th>\n",
       "      <td>11.990000</td>\n",
       "    </tr>\n",
       "    <tr>\n",
       "      <th>25%</th>\n",
       "      <td>132.630000</td>\n",
       "    </tr>\n",
       "    <tr>\n",
       "      <th>50%</th>\n",
       "      <td>269.980000</td>\n",
       "    </tr>\n",
       "    <tr>\n",
       "      <th>75%</th>\n",
       "      <td>525.870000</td>\n",
       "    </tr>\n",
       "    <tr>\n",
       "      <th>max</th>\n",
       "      <td>2936.860000</td>\n",
       "    </tr>\n",
       "  </tbody>\n",
       "</table>\n",
       "</div>"
      ],
      "text/plain": [
       "             price\n",
       "count   545.000000\n",
       "mean    393.239284\n",
       "std     386.320520\n",
       "min      11.990000\n",
       "25%     132.630000\n",
       "50%     269.980000\n",
       "75%     525.870000\n",
       "max    2936.860000"
      ]
     },
     "execution_count": 296,
     "metadata": {},
     "output_type": "execute_result"
    }
   ],
   "source": [
    "df.describe()"
   ]
  },
  {
   "cell_type": "code",
   "execution_count": 297,
   "metadata": {},
   "outputs": [],
   "source": [
    "df1 = df[['order_purchase_date','price']]\n",
    "df1 = df1.rename(columns = {'order_purchase_date':'ds','price':'y'})\n",
    "forecast_df = df1"
   ]
  },
  {
   "cell_type": "code",
   "execution_count": 298,
   "metadata": {},
   "outputs": [
    {
     "data": {
      "text/html": [
       "<div>\n",
       "<style scoped>\n",
       "    .dataframe tbody tr th:only-of-type {\n",
       "        vertical-align: middle;\n",
       "    }\n",
       "\n",
       "    .dataframe tbody tr th {\n",
       "        vertical-align: top;\n",
       "    }\n",
       "\n",
       "    .dataframe thead th {\n",
       "        text-align: right;\n",
       "    }\n",
       "</style>\n",
       "<table border=\"1\" class=\"dataframe\">\n",
       "  <thead>\n",
       "    <tr style=\"text-align: right;\">\n",
       "      <th></th>\n",
       "      <th>ds</th>\n",
       "      <th>y</th>\n",
       "    </tr>\n",
       "  </thead>\n",
       "  <tbody>\n",
       "    <tr>\n",
       "      <th>0</th>\n",
       "      <td>2016-10-04</td>\n",
       "      <td>59.90</td>\n",
       "    </tr>\n",
       "    <tr>\n",
       "      <th>1</th>\n",
       "      <td>2016-10-05</td>\n",
       "      <td>94.90</td>\n",
       "    </tr>\n",
       "    <tr>\n",
       "      <th>2</th>\n",
       "      <td>2016-10-06</td>\n",
       "      <td>87.75</td>\n",
       "    </tr>\n",
       "    <tr>\n",
       "      <th>3</th>\n",
       "      <td>2016-10-07</td>\n",
       "      <td>112.99</td>\n",
       "    </tr>\n",
       "    <tr>\n",
       "      <th>4</th>\n",
       "      <td>2016-10-09</td>\n",
       "      <td>541.74</td>\n",
       "    </tr>\n",
       "  </tbody>\n",
       "</table>\n",
       "</div>"
      ],
      "text/plain": [
       "           ds       y\n",
       "0  2016-10-04   59.90\n",
       "1  2016-10-05   94.90\n",
       "2  2016-10-06   87.75\n",
       "3  2016-10-07  112.99\n",
       "4  2016-10-09  541.74"
      ]
     },
     "execution_count": 298,
     "metadata": {},
     "output_type": "execute_result"
    }
   ],
   "source": [
    "forecast_df.head()"
   ]
  },
  {
   "cell_type": "code",
   "execution_count": 299,
   "metadata": {},
   "outputs": [],
   "source": [
    "forecast_df['ds'] = forecast_df['ds'].str[:7]"
   ]
  },
  {
   "cell_type": "code",
   "execution_count": 300,
   "metadata": {},
   "outputs": [],
   "source": [
    "forecast_df = forecast_df.groupby('ds')['y'].mean().reset_index()"
   ]
  },
  {
   "cell_type": "code",
   "execution_count": 301,
   "metadata": {},
   "outputs": [
    {
     "data": {
      "text/plain": [
       "(21, 2)"
      ]
     },
     "execution_count": 301,
     "metadata": {},
     "output_type": "execute_result"
    }
   ],
   "source": [
    "forecast_df.shape"
   ]
  },
  {
   "cell_type": "markdown",
   "metadata": {},
   "source": [
    "## Behaviour of data"
   ]
  },
  {
   "cell_type": "code",
   "execution_count": 302,
   "metadata": {},
   "outputs": [
    {
     "name": "stderr",
     "output_type": "stream",
     "text": [
      "C:\\Users\\Ajit Wagh\\anaconda3\\lib\\site-packages\\pandas\\plotting\\_matplotlib\\core.py:1192: UserWarning: FixedFormatter should only be used together with FixedLocator\n",
      "  ax.set_xticklabels(xticklabels)\n"
     ]
    },
    {
     "data": {
      "image/png": "[encoded data removed]",
      "text/plain": [
       "<Figure size 864x576 with 1 Axes>"
      ]
     },
     "metadata": {},
     "output_type": "display_data"
    }
   ],
   "source": [
    "ax = forecast_df.set_index('ds').plot(figsize=(12, 8))\n",
    "ax.set_ylabel('Variation of Child plays game')\n",
    "ax.set_xlabel('Date')\n",
    "plt.show()"
   ]
  },
  {
   "cell_type": "code",
   "execution_count": 303,
   "metadata": {},
   "outputs": [
    {
     "data": {
      "text/plain": [
       "ds     object\n",
       "y     float64\n",
       "dtype: object"
      ]
     },
     "execution_count": 303,
     "metadata": {},
     "output_type": "execute_result"
    }
   ],
   "source": [
    "forecast_df.dtypes"
   ]
  },
  {
   "cell_type": "code",
   "execution_count": 311,
   "metadata": {},
   "outputs": [
    {
     "data": {
      "text/plain": [
       "(21, 2)"
      ]
     },
     "execution_count": 311,
     "metadata": {},
     "output_type": "execute_result"
    }
   ],
   "source": [
    "forecast_df['ds']=pd.to_datetime(forecast_df['ds'], errors='coerce')\n",
    "forecast_df.shape"
   ]
  },
  {
   "cell_type": "code",
   "execution_count": 324,
   "metadata": {},
   "outputs": [
    {
     "data": {
      "text/plain": [
       "(21, 2)"
      ]
     },
     "execution_count": 324,
     "metadata": {},
     "output_type": "execute_result"
    }
   ],
   "source": [
    "forecast_df.shape"
   ]
  },
  {
   "cell_type": "code",
   "execution_count": 325,
   "metadata": {},
   "outputs": [
    {
     "data": {
      "text/plain": [
       "(545, 2)"
      ]
     },
     "execution_count": 325,
     "metadata": {},
     "output_type": "execute_result"
    }
   ],
   "source": [
    "df1.shape"
   ]
  },
  {
   "cell_type": "code",
   "execution_count": 346,
   "metadata": {},
   "outputs": [],
   "source": [
    "import glob\n"
   ]
  },
  {
   "cell_type": "code",
   "execution_count": 348,
   "metadata": {},
   "outputs": [],
   "source": [
    "path = \"C:\\\\Users\\\\Ajit Wagh\\\\Desktop\\\\TimeSeries\\\\new_categories\\\\new_files\\\\*.csv\""
   ]
  },
  {
   "cell_type": "code",
   "execution_count": 400,
   "metadata": {},
   "outputs": [],
   "source": [
    "path = \"C:\\\\Users\\\\Ajit Wagh\\\\Desktop\\\\TimeSeries\\\\new_categories\\\\new_files\\\\*.csv\"\n",
    "path1 = \"C:\\\\Users\\\\Ajit Wagh\\\\Desktop\\\\TimeSeries\\\\new_categories\\\\new_files\\\\mape results\\\\\""
   ]
  },
  {
   "cell_type": "code",
   "execution_count": 401,
   "metadata": {},
   "outputs": [],
   "source": [
    "from csv import writer"
   ]
  },
  {
   "cell_type": "markdown",
   "metadata": {},
   "source": [
    "## Modeling using Prophet"
   ]
  },
  {
   "cell_type": "code",
   "execution_count": 421,
   "metadata": {},
   "outputs": [
    {
     "name": "stdout",
     "output_type": "stream",
     "text": [
      "************************ forecast analysis *********************************\n"
     ]
    }
   ],
   "source": [
    "def future_prediction(path, path1):\n",
    "    for fname in glob.glob(path):\n",
    "        forecast_df=pd.read_csv(fname)\n",
    "        df1 = forecast_df.copy()\n",
    "        \n",
    "        forecast_df = forecast_df[['order_purchase_date','price']]\n",
    "        forecast_df = forecast_df.rename(columns = {'order_purchase_date':'ds','price':'y'})\n",
    "        forecast_df['ds'] = forecast_df['ds'].str[:7]\n",
    "        forecast_df = forecast_df.groupby('ds')['y'].mean().reset_index()\n",
    "        forecast_df['ds']=pd.to_datetime(forecast_df['ds'], errors='coerce')\n",
    "        \n",
    "        #m = Prophet(seasonality_mode='multiplicative', mcmc_samples=300, daily_seasonality=True,weekly_seasonality=True,yearly_seasonality=True)\n",
    "        m = Prophet()\n",
    "        m.fit(forecast_df)\n",
    "        #m = Prophet(seasonality_mode='multiplicative', mcmc_samples=300).fit(forecast_df)\n",
    "        #m = Prophet(seasonality_mode='multiplicative').fit(forecast_df)\n",
    "        #future = m.make_future_dataframe(periods=365)\n",
    "        #future = m.make_future_dataframe(periods=p)\n",
    "        future = m.make_future_dataframe(periods=12, freq='MS')\n",
    "        forecast_ndays = m.predict(future)\n",
    "        data_frames = [forecast_df,forecast_ndays]\n",
    "        forecast_data_ndays = reduce(lambda left,right: pd.merge(left,right, on=['ds'],how='outer'),data_frames)\n",
    "        forecast_data1_ndays = forecast_data_ndays.loc[:,['ds','y','yhat','yhat_lower','yhat_upper']]\n",
    "        forecast_data1_ndays1 = forecast_data1_ndays.iloc[:-12,:]\n",
    "        err = np.mean(np.abs((forecast_data1_ndays.y - forecast_data1_ndays.yhat) / forecast_data1_ndays.y)) * 100\n",
    "        #return forecast_data1_ndays, err\n",
    "        #return forecast_data1_ndays,  np.sqrt(((forecast_data1_ndays1.y - forecast_data1_ndays1.yhat) ** 2).mean())\n",
    "        forecast_data1_ndays['mape'] = err\n",
    "        forecast_data1_ndays['product_category_name']=df1['product_category_name']\n",
    "        a = forecast_data1_ndays['product_category_name'].iloc[0]\n",
    "        forecast_data1_ndays = forecast_data1_ndays.rename(columns = {'ds':'order_purchase_date','y':'price'})\n",
    "        forecast_data1_ndays = forecast_data1_ndays[['order_purchase_date','product_category_name','price','yhat','mape']]\n",
    "        b = str(err)\n",
    "        \n",
    "        list1 = []\n",
    "        list1.append(a)\n",
    "        list1.append(b)\n",
    "        print(list1)\n",
    "        forecast_data1_ndays.to_csv('C:\\\\Users\\\\Ajit Wagh\\\\Desktop\\\\TimeSeries\\\\new_categories\\\\new_files\\\\results\\\\'+a+'_results'+'.csv', index=False)\n",
    "        with open(path1+'mape_results.csv', 'a',newline='') as f_object:\n",
    "            writer_object = writer(f_object)\n",
    "            writer_object.writerow(list1)\n",
    "            #writer_object.writerows([i.strip().split(',') for i in list3])\n",
    "            f_object.close() \n",
    "            \n",
    "            \n",
    "            \n",
    "            \n",
    "            \n",
    "            \n",
    "print(\"************************ forecast analysis *********************************\")\n",
    "#future_df,rm1 = future_prediction(forecast_df,12)\n",
    "\n",
    "\n",
    "#future_data_30days.to_excel(\"C:\\\\Users\\\\Ajit Wagh\\\\Desktop\\\\TimeSeries\\\\Brazilian Eccomerce Dataset\\\\product_categories\\\\relogios_presentes180.xlsx\")\n",
    "#print(\"Total no of records before future prediction : \", len(forecast_df))\n",
    "#print(\"Total no of records after future prediction : \", len(future_df))\n",
    "#print(\"rms : \" + str(rm1))\n",
    "#print(\"forecast data model : \")\n",
    "#future_df.plot(x='ds',y='y')"
   ]
  },
  {
   "cell_type": "code",
   "execution_count": 418,
   "metadata": {},
   "outputs": [
    {
     "name": "stdout",
     "output_type": "stream",
     "text": [
      "['ajit', '80.19']\n"
     ]
    }
   ],
   "source": [
    "a='ajit'\n",
    "b='80.19'\n",
    "list1 = []\n",
    "list1.append(a)\n",
    "list1.append(b)\n",
    "print(list1)"
   ]
  },
  {
   "cell_type": "code",
   "execution_count": 422,
   "metadata": {},
   "outputs": [
    {
     "name": "stderr",
     "output_type": "stream",
     "text": [
      "INFO:fbprophet:Disabling yearly seasonality. Run prophet with yearly_seasonality=True to override this.\n",
      "INFO:fbprophet:Disabling weekly seasonality. Run prophet with weekly_seasonality=True to override this.\n",
      "INFO:fbprophet:Disabling daily seasonality. Run prophet with daily_seasonality=True to override this.\n",
      "INFO:fbprophet:n_changepoints greater than number of observations. Using 15.\n",
      "INFO:fbprophet:Disabling yearly seasonality. Run prophet with yearly_seasonality=True to override this.\n",
      "INFO:fbprophet:Disabling weekly seasonality. Run prophet with weekly_seasonality=True to override this.\n",
      "INFO:fbprophet:Disabling daily seasonality. Run prophet with daily_seasonality=True to override this.\n",
      "INFO:fbprophet:n_changepoints greater than number of observations. Using 15.\n"
     ]
    },
    {
     "name": "stdout",
     "output_type": "stream",
     "text": [
      "['agro_industria_e_comercio', '28.80465972724831']\n",
      "['alimentos', '13.08731684630139']\n"
     ]
    }
   ],
   "source": [
    "future_prediction(path, path1)"
   ]
  },
  {
   "cell_type": "code",
   "execution_count": null,
   "metadata": {},
   "outputs": [],
   "source": [
    "df1.shape"
   ]
  },
  {
   "cell_type": "code",
   "execution_count": 319,
   "metadata": {},
   "outputs": [
    {
     "data": {
      "text/plain": [
       "(21, 5)"
      ]
     },
     "execution_count": 319,
     "metadata": {},
     "output_type": "execute_result"
    }
   ],
   "source": [
    "future_df.shape"
   ]
  },
  {
   "cell_type": "code",
   "execution_count": 322,
   "metadata": {},
   "outputs": [
    {
     "data": {
      "text/html": [
       "<div>\n",
       "<style scoped>\n",
       "    .dataframe tbody tr th:only-of-type {\n",
       "        vertical-align: middle;\n",
       "    }\n",
       "\n",
       "    .dataframe tbody tr th {\n",
       "        vertical-align: top;\n",
       "    }\n",
       "\n",
       "    .dataframe thead th {\n",
       "        text-align: right;\n",
       "    }\n",
       "</style>\n",
       "<table border=\"1\" class=\"dataframe\">\n",
       "  <thead>\n",
       "    <tr style=\"text-align: right;\">\n",
       "      <th></th>\n",
       "      <th>ds</th>\n",
       "      <th>y</th>\n",
       "      <th>yhat</th>\n",
       "      <th>yhat_lower</th>\n",
       "      <th>yhat_upper</th>\n",
       "    </tr>\n",
       "  </thead>\n",
       "  <tbody>\n",
       "    <tr>\n",
       "      <th>0</th>\n",
       "      <td>2016-10-01</td>\n",
       "      <td>155.363333</td>\n",
       "      <td>155.363333</td>\n",
       "      <td>155.363333</td>\n",
       "      <td>155.363333</td>\n",
       "    </tr>\n",
       "    <tr>\n",
       "      <th>1</th>\n",
       "      <td>2017-01-01</td>\n",
       "      <td>115.561000</td>\n",
       "      <td>115.561000</td>\n",
       "      <td>115.561000</td>\n",
       "      <td>115.561000</td>\n",
       "    </tr>\n",
       "    <tr>\n",
       "      <th>2</th>\n",
       "      <td>2017-02-01</td>\n",
       "      <td>200.724348</td>\n",
       "      <td>200.724348</td>\n",
       "      <td>200.724348</td>\n",
       "      <td>200.724348</td>\n",
       "    </tr>\n",
       "    <tr>\n",
       "      <th>3</th>\n",
       "      <td>2017-03-01</td>\n",
       "      <td>214.922000</td>\n",
       "      <td>214.922000</td>\n",
       "      <td>214.922000</td>\n",
       "      <td>214.922000</td>\n",
       "    </tr>\n",
       "    <tr>\n",
       "      <th>4</th>\n",
       "      <td>2017-04-01</td>\n",
       "      <td>232.751538</td>\n",
       "      <td>232.751538</td>\n",
       "      <td>232.751538</td>\n",
       "      <td>232.751538</td>\n",
       "    </tr>\n",
       "    <tr>\n",
       "      <th>5</th>\n",
       "      <td>2017-05-01</td>\n",
       "      <td>315.650357</td>\n",
       "      <td>315.650357</td>\n",
       "      <td>315.650357</td>\n",
       "      <td>315.650357</td>\n",
       "    </tr>\n",
       "    <tr>\n",
       "      <th>6</th>\n",
       "      <td>2017-06-01</td>\n",
       "      <td>273.954074</td>\n",
       "      <td>273.954074</td>\n",
       "      <td>273.954074</td>\n",
       "      <td>273.954074</td>\n",
       "    </tr>\n",
       "    <tr>\n",
       "      <th>7</th>\n",
       "      <td>2017-07-01</td>\n",
       "      <td>287.552000</td>\n",
       "      <td>287.552000</td>\n",
       "      <td>287.552000</td>\n",
       "      <td>287.552000</td>\n",
       "    </tr>\n",
       "    <tr>\n",
       "      <th>8</th>\n",
       "      <td>2017-08-01</td>\n",
       "      <td>331.415000</td>\n",
       "      <td>331.415000</td>\n",
       "      <td>331.415000</td>\n",
       "      <td>331.415000</td>\n",
       "    </tr>\n",
       "    <tr>\n",
       "      <th>9</th>\n",
       "      <td>2017-09-01</td>\n",
       "      <td>290.505000</td>\n",
       "      <td>290.505000</td>\n",
       "      <td>290.505000</td>\n",
       "      <td>290.505000</td>\n",
       "    </tr>\n",
       "    <tr>\n",
       "      <th>10</th>\n",
       "      <td>2017-10-01</td>\n",
       "      <td>308.226786</td>\n",
       "      <td>308.226786</td>\n",
       "      <td>308.226786</td>\n",
       "      <td>308.226786</td>\n",
       "    </tr>\n",
       "    <tr>\n",
       "      <th>11</th>\n",
       "      <td>2017-11-01</td>\n",
       "      <td>520.478929</td>\n",
       "      <td>520.478929</td>\n",
       "      <td>520.478929</td>\n",
       "      <td>520.478929</td>\n",
       "    </tr>\n",
       "    <tr>\n",
       "      <th>12</th>\n",
       "      <td>2017-12-01</td>\n",
       "      <td>464.803462</td>\n",
       "      <td>464.803462</td>\n",
       "      <td>464.803462</td>\n",
       "      <td>464.803462</td>\n",
       "    </tr>\n",
       "    <tr>\n",
       "      <th>13</th>\n",
       "      <td>2018-01-01</td>\n",
       "      <td>423.402414</td>\n",
       "      <td>423.402414</td>\n",
       "      <td>423.402414</td>\n",
       "      <td>423.402414</td>\n",
       "    </tr>\n",
       "    <tr>\n",
       "      <th>14</th>\n",
       "      <td>2018-02-01</td>\n",
       "      <td>480.515357</td>\n",
       "      <td>480.515357</td>\n",
       "      <td>480.515357</td>\n",
       "      <td>480.515357</td>\n",
       "    </tr>\n",
       "    <tr>\n",
       "      <th>15</th>\n",
       "      <td>2018-03-01</td>\n",
       "      <td>524.996000</td>\n",
       "      <td>524.996000</td>\n",
       "      <td>524.996000</td>\n",
       "      <td>524.996000</td>\n",
       "    </tr>\n",
       "    <tr>\n",
       "      <th>16</th>\n",
       "      <td>2018-04-01</td>\n",
       "      <td>493.280000</td>\n",
       "      <td>493.280000</td>\n",
       "      <td>493.280000</td>\n",
       "      <td>493.280000</td>\n",
       "    </tr>\n",
       "    <tr>\n",
       "      <th>17</th>\n",
       "      <td>2018-05-01</td>\n",
       "      <td>584.972759</td>\n",
       "      <td>584.972759</td>\n",
       "      <td>584.972759</td>\n",
       "      <td>584.972759</td>\n",
       "    </tr>\n",
       "    <tr>\n",
       "      <th>18</th>\n",
       "      <td>2018-06-01</td>\n",
       "      <td>504.180000</td>\n",
       "      <td>504.180000</td>\n",
       "      <td>504.180000</td>\n",
       "      <td>504.180000</td>\n",
       "    </tr>\n",
       "    <tr>\n",
       "      <th>19</th>\n",
       "      <td>2018-07-01</td>\n",
       "      <td>579.469286</td>\n",
       "      <td>579.469286</td>\n",
       "      <td>579.469286</td>\n",
       "      <td>579.469286</td>\n",
       "    </tr>\n",
       "    <tr>\n",
       "      <th>20</th>\n",
       "      <td>2018-08-01</td>\n",
       "      <td>513.212963</td>\n",
       "      <td>513.212963</td>\n",
       "      <td>513.212963</td>\n",
       "      <td>513.212963</td>\n",
       "    </tr>\n",
       "    <tr>\n",
       "      <th>21</th>\n",
       "      <td>2018-09-01</td>\n",
       "      <td>NaN</td>\n",
       "      <td>799.113438</td>\n",
       "      <td>799.039095</td>\n",
       "      <td>799.186321</td>\n",
       "    </tr>\n",
       "    <tr>\n",
       "      <th>22</th>\n",
       "      <td>2018-10-01</td>\n",
       "      <td>NaN</td>\n",
       "      <td>463.437833</td>\n",
       "      <td>463.177509</td>\n",
       "      <td>463.723337</td>\n",
       "    </tr>\n",
       "    <tr>\n",
       "      <th>23</th>\n",
       "      <td>2018-11-01</td>\n",
       "      <td>NaN</td>\n",
       "      <td>804.929088</td>\n",
       "      <td>804.425751</td>\n",
       "      <td>805.498090</td>\n",
       "    </tr>\n",
       "    <tr>\n",
       "      <th>24</th>\n",
       "      <td>2018-12-01</td>\n",
       "      <td>NaN</td>\n",
       "      <td>668.981238</td>\n",
       "      <td>668.150543</td>\n",
       "      <td>669.914770</td>\n",
       "    </tr>\n",
       "    <tr>\n",
       "      <th>25</th>\n",
       "      <td>2019-01-01</td>\n",
       "      <td>NaN</td>\n",
       "      <td>737.225710</td>\n",
       "      <td>736.049737</td>\n",
       "      <td>738.578304</td>\n",
       "    </tr>\n",
       "    <tr>\n",
       "      <th>26</th>\n",
       "      <td>2019-02-01</td>\n",
       "      <td>NaN</td>\n",
       "      <td>764.823455</td>\n",
       "      <td>763.264758</td>\n",
       "      <td>766.674630</td>\n",
       "    </tr>\n",
       "    <tr>\n",
       "      <th>27</th>\n",
       "      <td>2019-03-01</td>\n",
       "      <td>NaN</td>\n",
       "      <td>838.149541</td>\n",
       "      <td>836.263044</td>\n",
       "      <td>840.485460</td>\n",
       "    </tr>\n",
       "    <tr>\n",
       "      <th>28</th>\n",
       "      <td>2019-04-01</td>\n",
       "      <td>NaN</td>\n",
       "      <td>755.915775</td>\n",
       "      <td>753.523380</td>\n",
       "      <td>758.727928</td>\n",
       "    </tr>\n",
       "    <tr>\n",
       "      <th>29</th>\n",
       "      <td>2019-05-01</td>\n",
       "      <td>NaN</td>\n",
       "      <td>856.134865</td>\n",
       "      <td>853.237071</td>\n",
       "      <td>859.534739</td>\n",
       "    </tr>\n",
       "    <tr>\n",
       "      <th>30</th>\n",
       "      <td>2019-06-01</td>\n",
       "      <td>NaN</td>\n",
       "      <td>736.645609</td>\n",
       "      <td>733.274642</td>\n",
       "      <td>740.599833</td>\n",
       "    </tr>\n",
       "    <tr>\n",
       "      <th>31</th>\n",
       "      <td>2019-07-01</td>\n",
       "      <td>NaN</td>\n",
       "      <td>873.063377</td>\n",
       "      <td>869.033451</td>\n",
       "      <td>877.572409</td>\n",
       "    </tr>\n",
       "    <tr>\n",
       "      <th>32</th>\n",
       "      <td>2019-08-01</td>\n",
       "      <td>NaN</td>\n",
       "      <td>698.755729</td>\n",
       "      <td>693.948975</td>\n",
       "      <td>703.871105</td>\n",
       "    </tr>\n",
       "  </tbody>\n",
       "</table>\n",
       "</div>"
      ],
      "text/plain": [
       "           ds           y        yhat  yhat_lower  yhat_upper\n",
       "0  2016-10-01  155.363333  155.363333  155.363333  155.363333\n",
       "1  2017-01-01  115.561000  115.561000  115.561000  115.561000\n",
       "2  2017-02-01  200.724348  200.724348  200.724348  200.724348\n",
       "3  2017-03-01  214.922000  214.922000  214.922000  214.922000\n",
       "4  2017-04-01  232.751538  232.751538  232.751538  232.751538\n",
       "5  2017-05-01  315.650357  315.650357  315.650357  315.650357\n",
       "6  2017-06-01  273.954074  273.954074  273.954074  273.954074\n",
       "7  2017-07-01  287.552000  287.552000  287.552000  287.552000\n",
       "8  2017-08-01  331.415000  331.415000  331.415000  331.415000\n",
       "9  2017-09-01  290.505000  290.505000  290.505000  290.505000\n",
       "10 2017-10-01  308.226786  308.226786  308.226786  308.226786\n",
       "11 2017-11-01  520.478929  520.478929  520.478929  520.478929\n",
       "12 2017-12-01  464.803462  464.803462  464.803462  464.803462\n",
       "13 2018-01-01  423.402414  423.402414  423.402414  423.402414\n",
       "14 2018-02-01  480.515357  480.515357  480.515357  480.515357\n",
       "15 2018-03-01  524.996000  524.996000  524.996000  524.996000\n",
       "16 2018-04-01  493.280000  493.280000  493.280000  493.280000\n",
       "17 2018-05-01  584.972759  584.972759  584.972759  584.972759\n",
       "18 2018-06-01  504.180000  504.180000  504.180000  504.180000\n",
       "19 2018-07-01  579.469286  579.469286  579.469286  579.469286\n",
       "20 2018-08-01  513.212963  513.212963  513.212963  513.212963\n",
       "21 2018-09-01         NaN  799.113438  799.039095  799.186321\n",
       "22 2018-10-01         NaN  463.437833  463.177509  463.723337\n",
       "23 2018-11-01         NaN  804.929088  804.425751  805.498090\n",
       "24 2018-12-01         NaN  668.981238  668.150543  669.914770\n",
       "25 2019-01-01         NaN  737.225710  736.049737  738.578304\n",
       "26 2019-02-01         NaN  764.823455  763.264758  766.674630\n",
       "27 2019-03-01         NaN  838.149541  836.263044  840.485460\n",
       "28 2019-04-01         NaN  755.915775  753.523380  758.727928\n",
       "29 2019-05-01         NaN  856.134865  853.237071  859.534739\n",
       "30 2019-06-01         NaN  736.645609  733.274642  740.599833\n",
       "31 2019-07-01         NaN  873.063377  869.033451  877.572409\n",
       "32 2019-08-01         NaN  698.755729  693.948975  703.871105"
      ]
     },
     "execution_count": 322,
     "metadata": {},
     "output_type": "execute_result"
    }
   ],
   "source": [
    "future_df"
   ]
  },
  {
   "cell_type": "code",
   "execution_count": null,
   "metadata": {},
   "outputs": [],
   "source": []
  },
  {
   "cell_type": "code",
   "execution_count": null,
   "metadata": {},
   "outputs": [],
   "source": []
  },
  {
   "cell_type": "code",
   "execution_count": null,
   "metadata": {},
   "outputs": [],
   "source": []
  },
  {
   "cell_type": "code",
   "execution_count": null,
   "metadata": {},
   "outputs": [],
   "source": [
    "print(\"************************ 90 days forecast analysis *********************************\")\n",
    "future_data_90days,rm = future_prediction(forecast_df,90)\n",
    "#future_data_90days.to_excel(\"C:\\\\Users\\\\Ajit Wagh\\\\Desktop\\\\TimeSeries\\\\Brazilian Eccomerce Dataset\\\\product_categories\\\\relogios_presentes180.xlsx\")\n",
    "print(\"Total no of records before future prediction : \", len(forecast_df))\n",
    "print(\"Total no of records after future prediction : \", len(future_data_90days))\n",
    "print(\"rms : \" + str(rm))\n",
    "#future_data_90days.head()\n",
    "print(\"************************ 180 days forecast analysis *********************************\")\n",
    "future_data_180days,rm1 = future_prediction(forecast_df,180)\n",
    "future_data_180days['product_category']='pet_shop'\n",
    "colum=['ds','product_category','y','yhat','yhat_lower','yhat_upper']\n",
    "future_data_180days = future_data_180days.reindex(colum, axis='columns')\n",
    "future_data_180days.to_excel(\"C:\\\\Users\\\\Ajit Wagh\\\\Desktop\\\\TimeSeries\\\\Brazilian Eccomerce Dataset\\\\product_categories\\\\pet_shop180.xlsx\", index=False)\n",
    "print(\"Total no of records before future prediction : \", len(forecast_df))\n",
    "print(\"Total no of records after future prediction : \", len(future_data_180days))\n",
    "print(\"rms : \" + str(rm1))\n",
    "print(\"************************ 365 days forecast analysis *********************************\")\n",
    "future_data_365days,rm2 = future_prediction(forecast_df,365)\n",
    "#future_data_365days.to_excel(\"C:\\\\Users\\\\Ajit Wagh\\\\Desktop\\\\TimeSeries\\\\Brazilian Eccomerce Dataset\\\\product_categories\\\\relogios_presentes30.xlsx\")\n",
    "print(\"Total no of records before future prediction : \", len(forecast_df))\n",
    "print(\"Total no of records after future prediction : \", len(future_data_365days))\n",
    "print(\"rms : \" + str(rm2))\n",
    "print(\"**************** A graph of this data to get an understanding of how well our model is working ********************\")\n",
    "print(\"30 days forecast data model : \")\n",
    "future_data_30days.plot(x='ds',y='y')\n",
    "print(\"90 days forecast data model : \")\n",
    "#future_data_90days.plot(x='ds',y='y')\n",
    "print(\"180 days forecast data model : \")\n",
    "#future_data_180days.plot(x='ds',y='y')\n",
    "print(\"365 days forecast data model : \")\n",
    "#future_data_365days.plot(x='ds',y='y')"
   ]
  },
  {
   "cell_type": "code",
   "execution_count": 375,
   "metadata": {},
   "outputs": [
    {
     "data": {
      "text/html": [
       "<div>\n",
       "<style scoped>\n",
       "    .dataframe tbody tr th:only-of-type {\n",
       "        vertical-align: middle;\n",
       "    }\n",
       "\n",
       "    .dataframe tbody tr th {\n",
       "        vertical-align: top;\n",
       "    }\n",
       "\n",
       "    .dataframe thead th {\n",
       "        text-align: right;\n",
       "    }\n",
       "</style>\n",
       "<table border=\"1\" class=\"dataframe\">\n",
       "  <thead>\n",
       "    <tr style=\"text-align: right;\">\n",
       "      <th></th>\n",
       "      <th>ds</th>\n",
       "      <th>y</th>\n",
       "    </tr>\n",
       "  </thead>\n",
       "  <tbody>\n",
       "    <tr>\n",
       "      <th>0</th>\n",
       "      <td>2016-10-01</td>\n",
       "      <td>155.363333</td>\n",
       "    </tr>\n",
       "    <tr>\n",
       "      <th>1</th>\n",
       "      <td>2017-01-01</td>\n",
       "      <td>115.561000</td>\n",
       "    </tr>\n",
       "    <tr>\n",
       "      <th>2</th>\n",
       "      <td>2017-02-01</td>\n",
       "      <td>200.724348</td>\n",
       "    </tr>\n",
       "    <tr>\n",
       "      <th>3</th>\n",
       "      <td>2017-03-01</td>\n",
       "      <td>214.922000</td>\n",
       "    </tr>\n",
       "    <tr>\n",
       "      <th>4</th>\n",
       "      <td>2017-04-01</td>\n",
       "      <td>232.751538</td>\n",
       "    </tr>\n",
       "  </tbody>\n",
       "</table>\n",
       "</div>"
      ],
      "text/plain": [
       "          ds           y\n",
       "0 2016-10-01  155.363333\n",
       "1 2017-01-01  115.561000\n",
       "2 2017-02-01  200.724348\n",
       "3 2017-03-01  214.922000\n",
       "4 2017-04-01  232.751538"
      ]
     },
     "execution_count": 375,
     "metadata": {},
     "output_type": "execute_result"
    }
   ],
   "source": [
    "forecast_df.head()"
   ]
  },
  {
   "cell_type": "markdown",
   "metadata": {},
   "source": [
    "## Validation RMSE"
   ]
  },
  {
   "cell_type": "code",
   "execution_count": 377,
   "metadata": {},
   "outputs": [
    {
     "name": "stderr",
     "output_type": "stream",
     "text": [
      "INFO:fbprophet:Disabling yearly seasonality. Run prophet with yearly_seasonality=True to override this.\n",
      "INFO:fbprophet:Disabling weekly seasonality. Run prophet with weekly_seasonality=True to override this.\n",
      "INFO:fbprophet:Disabling daily seasonality. Run prophet with daily_seasonality=True to override this.\n",
      "INFO:fbprophet:n_changepoints greater than number of observations. Using 15.\n"
     ]
    },
    {
     "ename": "TypeError",
     "evalue": "cross_validation() got an unexpected keyword argument 'freq'",
     "output_type": "error",
     "traceback": [
      "\u001b[1;31m---------------------------------------------------------------------------\u001b[0m",
      "\u001b[1;31mTypeError\u001b[0m                                 Traceback (most recent call last)",
      "\u001b[1;32m<ipython-input-377-f227a827b7b7>\u001b[0m in \u001b[0;36m<module>\u001b[1;34m\u001b[0m\n\u001b[0;32m     12\u001b[0m \u001b[1;33m\u001b[0m\u001b[0m\n\u001b[0;32m     13\u001b[0m \u001b[1;33m\u001b[0m\u001b[0m\n\u001b[1;32m---> 14\u001b[1;33m \u001b[0ma\u001b[0m \u001b[1;33m=\u001b[0m \u001b[0mrmse\u001b[0m\u001b[1;33m(\u001b[0m\u001b[1;34m'12'\u001b[0m\u001b[1;33m)\u001b[0m\u001b[1;33m\u001b[0m\u001b[1;33m\u001b[0m\u001b[0m\n\u001b[0m\u001b[0;32m     15\u001b[0m \u001b[1;31m#b = rmse('90 days')\u001b[0m\u001b[1;33m\u001b[0m\u001b[1;33m\u001b[0m\u001b[1;33m\u001b[0m\u001b[0m\n\u001b[0;32m     16\u001b[0m \u001b[1;31m#c = rmse('180 days')\u001b[0m\u001b[1;33m\u001b[0m\u001b[1;33m\u001b[0m\u001b[1;33m\u001b[0m\u001b[0m\n",
      "\u001b[1;32m<ipython-input-377-f227a827b7b7>\u001b[0m in \u001b[0;36mrmse\u001b[1;34m(p)\u001b[0m\n\u001b[0;32m      6\u001b[0m     \u001b[0mm\u001b[0m \u001b[1;33m=\u001b[0m \u001b[0mProphet\u001b[0m\u001b[1;33m(\u001b[0m\u001b[1;33m)\u001b[0m\u001b[1;33m\u001b[0m\u001b[1;33m\u001b[0m\u001b[0m\n\u001b[0;32m      7\u001b[0m     \u001b[0mm\u001b[0m\u001b[1;33m.\u001b[0m\u001b[0mfit\u001b[0m\u001b[1;33m(\u001b[0m\u001b[0mforecast_df\u001b[0m\u001b[1;33m)\u001b[0m\u001b[1;33m\u001b[0m\u001b[1;33m\u001b[0m\u001b[0m\n\u001b[1;32m----> 8\u001b[1;33m     \u001b[0mdf_cv\u001b[0m \u001b[1;33m=\u001b[0m \u001b[0mcross_validation\u001b[0m\u001b[1;33m(\u001b[0m\u001b[0mm\u001b[0m\u001b[1;33m,\u001b[0m \u001b[0mperiod\u001b[0m\u001b[1;33m=\u001b[0m\u001b[1;36m12\u001b[0m\u001b[1;33m,\u001b[0m \u001b[0mfreq\u001b[0m\u001b[1;33m=\u001b[0m\u001b[1;34m'MS'\u001b[0m\u001b[1;33m)\u001b[0m\u001b[1;33m\u001b[0m\u001b[1;33m\u001b[0m\u001b[0m\n\u001b[0m\u001b[0;32m      9\u001b[0m     \u001b[1;31m#df_cv = cross_validation(m, initial='90 days', period= p, horizon = '365 days')\u001b[0m\u001b[1;33m\u001b[0m\u001b[1;33m\u001b[0m\u001b[1;33m\u001b[0m\u001b[0m\n\u001b[0;32m     10\u001b[0m     \u001b[1;31m#return np.sqrt(((np.array(df_cv['y']) - np.array(df_cv['yhat'])) ** 2).mean())/100\u001b[0m\u001b[1;33m\u001b[0m\u001b[1;33m\u001b[0m\u001b[1;33m\u001b[0m\u001b[0m\n",
      "\u001b[1;31mTypeError\u001b[0m: cross_validation() got an unexpected keyword argument 'freq'"
     ]
    }
   ],
   "source": [
    "from fbprophet.diagnostics import cross_validation\n",
    "from fbprophet.diagnostics import performance_metrics\n",
    "def rmse(p):\n",
    "    #m = Prophet()\n",
    "    m = Prophet(seasonality_mode='multiplicative', mcmc_samples=300).fit(forecast_df)\n",
    "    m.fit(forecast_df)\n",
    "    df_cv = cross_validation(m, initial='90 days', period= p, horizon = '365 days')\n",
    "    #return np.sqrt(((np.array(df_cv['y']) - np.array(df_cv['yhat'])) ** 2).mean())/100\n",
    "    return np.mean(np.abs(((df_cv['y']) - (df_cv['yhat'])) / (df_cv['y']))) * 100\n",
    "\n",
    "a = rmse('30 days')\n",
    "b = rmse('90 days')\n",
    "c = rmse('180 days')\n",
    "d = rmse('365 days')\n",
    "print(\"Validation rmse for 30 days prediction is: \" + str(a))\n",
    "print(\"Validation rmse for 90 days prediction is: \" + str(b))\n",
    "print(\"Validation rmse for 180 days prediction is: \" + str(c))\n",
    "print(\"Validation rmse for 365 days prediction is: \" + str(d))"
   ]
  },
  {
   "cell_type": "markdown",
   "metadata": {},
   "source": [
    "## Test RMSE"
   ]
  },
  {
   "cell_type": "code",
   "execution_count": null,
   "metadata": {},
   "outputs": [],
   "source": [
    "\n",
    "def manual_test_rmse(df7,row,p):\n",
    "    df7 = forecast_df.copy()\n",
    "    dt = max(df7['ds'])\n",
    "    #df7['y_orig'] = df7['y']\n",
    "    #df7['y'] = df7['y_orig']\n",
    "    #df7['y'] = np.log(df7['y'])\n",
    "    test_data1 = df7.loc[:,['ds','y']]\n",
    "    #train_data = df7\n",
    "    test_data_val = test_data1.iloc[row: , :]\n",
    "    print(len(test_data_val))\n",
    " \n",
    "    test_data_val1 = test_data_val.loc[:,['ds','y']]\n",
    "    test_data_val2 = test_data_val1\n",
    "    #test_data_val1['y'] = np.log(test_data_val1['y'])\n",
    "    \n",
    "    p_test = Prophet()\n",
    "    p_test.fit(test_data_val1)\n",
    "    future = p_test.make_future_dataframe(periods=p)\n",
    "    forecast_test_ndays = p_test.predict(future)\n",
    "    #df7['y']=df7['y'].astype(float)\n",
    "    test_data_val1['y']=test_data_val1['y'].astype(float)\n",
    "    test_data_val1['y'] = test_data_val2['y']\n",
    "    #train_data_val1['y']=np.exp(train_data_val1['y'])\n",
    "    #forecast_test_ndays['yhat']=np.exp(forecast_test_ndays['yhat'])\n",
    "    #forecast_test_ndays['yhat_lower']=np.exp(forecast_test_ndays['yhat_lower'])\n",
    "    #forecast_test_ndays['yhat_upper']=np.exp(forecast_test_ndays['yhat_upper'])\n",
    "    forecast_test_ndays1 = forecast_test_ndays.loc[:,['ds','yhat','yhat_lower','yhat_upper']]\n",
    "    #train_data_val1.fillna(train_data_val1['y'].mean())\n",
    "    #train_merge = train_data_val1.merge(forecast_train_ndays1, on = 'ds')\n",
    "    test_data_val1['ds']=pd.to_datetime(test_data_val1['ds'], errors='coerce')\n",
    "    data_frames = [test_data_val1,forecast_test_ndays1]\n",
    "    test_merge = reduce(lambda left,right: pd.merge(left,right, on=['ds'],how='outer'),data_frames).fillna(test_data_val1['y'].mean())\n",
    "    test_merge_final = test_merge.iloc[row:, :]\n",
    "    test_merge_final['y']=test_merge_final['y'].astype(int)\n",
    "    test_merge_final['yhat']=test_merge_final['yhat'].astype(int)\n",
    "    #return np.sqrt(((test_merge_final.y - test_merge_final.yhat) ** 2).mean()),test_merge_final\n",
    "    return np.mean(np.abs((test_merge_final.y - test_merge_final.yhat) / test_merge_final.y)) * 100\n",
    "\n",
    "test_rmse7,rmse7 = manual_test_rmse(forecast_df,-7,90)\n",
    "test_rmse14,rmse14 = manual_test_rmse(forecast_df,-14,180)\n",
    "test_rmse30,rmse30 = manual_test_rmse(forecast_df,-30,365)\n",
    "print(\"************************** Manual Test RMSE for 7 days ***********************************\")\n",
    "print(\"Test RMSE for 7 days prediction is: \" ,test_rmse7)\n",
    "print('Max date in test data : ', max(rmse7['ds']))\n",
    "print('Min date in test data : ', min(rmse7['ds']))\n",
    "print('Total records in test data : ', len(rmse7)) \n",
    "print(\"************************** Manual Train RMSE for 14 days ***********************************\")\n",
    "print(\"Test RMSE for 14 days prediction is: \" ,test_rmse14)\n",
    "print('Max date in test data : ', max(rmse14['ds']))\n",
    "print('Min date in test data : ', min(rmse14['ds']))\n",
    "print('Total records in test data : ', len(rmse14)) \n",
    "print(\"************************** Manual Train RMSE for 30 days ***********************************\")\n",
    "print(\"Test RMSE for 30 days prediction is: \" ,test_rmse14)\n",
    "print('Max date in Test data : ', max(rmse30['ds']))\n",
    "print('Min date in Test data : ', min(rmse30['ds']))\n",
    "print('Total records in Test data : ', len(rmse30)) "
   ]
  },
  {
   "cell_type": "code",
   "execution_count": 305,
   "metadata": {},
   "outputs": [],
   "source": [
    "m = Prophet()\n",
    "m.fit(forecast_df)\n",
    "df_cv = cross_validation(m, initial='365 days', period= 90, horizon = '180 days')\n",
    "from fbprophet.diagnostics import performance_metrics\n",
    "df_p = performance_metrics(df_cv)\n",
    "df_p.tail()"
   ]
  },
  {
   "cell_type": "code",
   "execution_count": null,
   "metadata": {},
   "outputs": [],
   "source": [
    "import os\n",
    "from openpyxl import Workbook\n",
    "\n",
    "#=====New Code====#\n",
    "from openpyxl import load_workbook\n",
    "#=================#\n",
    "\n",
    "dir_containing_files = \"C:\\\\Users\\\\Ajit Wagh\\\\Desktop\\\\TimeSeries\\\\Brazilian Eccomerce Dataset\\\\files\"\n",
    "\n",
    "dest_wb = Workbook()\n",
    "\n",
    "for root, dir, filenames in os.walk(dir_containing_files):\n",
    "    for file in filenames:\n",
    "        file_name = file.split('.')[0]\n",
    "        # Absolute Path for Excel files\n",
    "        file_path = os.path.abspath(os.path.join(root, file))\n",
    "\n",
    "        # Create new sheet in destination Workbook\n",
    "        dest_wb.create_sheet(file_name)\n",
    "        dest_ws = dest_wb[file_name]\n",
    "\n",
    "        # =====New Code====#\n",
    "\n",
    "        # Read source data\n",
    "        source_wb = load_workbook(file_path)\n",
    "        source_sheet = source_wb.active\n",
    "        for row in source_sheet.rows:\n",
    "            for cell in row:\n",
    "                dest_ws[cell.coordinate] = cell.value\n",
    "        # =================#\n",
    "\n",
    "dest_wb.save(\"yearly_sales.xlsx\")"
   ]
  },
  {
   "cell_type": "code",
   "execution_count": null,
   "metadata": {},
   "outputs": [],
   "source": []
  },
  {
   "cell_type": "code",
   "execution_count": null,
   "metadata": {},
   "outputs": [],
   "source": []
  }
 ],
 "metadata": {
  "kernelspec": {
   "display_name": "Python 3",
   "language": "python",
   "name": "python3"
  },
  "language_info": {
   "codemirror_mode": {
    "name": "ipython",
    "version": 3
   },
   "file_extension": ".py",
   "mimetype": "text/x-python",
   "name": "python",
   "nbconvert_exporter": "python",
   "pygments_lexer": "ipython3",
   "version": "3.8.5"
  }
 },
 "nbformat": 4,
 "nbformat_minor": 4
}
