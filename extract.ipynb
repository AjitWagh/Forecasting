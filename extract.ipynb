{
 "cells": [
  {
   "cell_type": "markdown",
   "metadata": {},
   "source": [
    "#### Importing required libraries"
   ]
  },
  {
   "cell_type": "code",
   "execution_count": 198,
   "metadata": {},
   "outputs": [],
   "source": [
    "import pandas as pd\n",
    "import numpy as np\n",
    "from functools import reduce\n",
    "from fbprophet import Prophet\n",
    "import matplotlib.pyplot as plt\n",
    "plt.style.use('fivethirtyeight')"
   ]
  },
  {
   "cell_type": "code",
   "execution_count": 199,
   "metadata": {},
   "outputs": [
    {
     "data": {
      "text/plain": [
       "'C:\\\\Users\\\\Ajit Wagh\\\\Desktop\\\\TimeSeries'"
      ]
     },
     "execution_count": 199,
     "metadata": {},
     "output_type": "execute_result"
    }
   ],
   "source": [
    "pwd"
   ]
  },
  {
   "cell_type": "markdown",
   "metadata": {},
   "source": [
    "#### Reading input datasets"
   ]
  },
  {
   "cell_type": "code",
   "execution_count": 218,
   "metadata": {},
   "outputs": [],
   "source": [
    "cust_data = pd.read_csv('C:\\\\Users\\\\Ajit Wagh\\\\Desktop\\\\TimeSeries\\\\Brazilian Eccomerce Dataset\\\\olist_customers_dataset.csv')\n",
    "geo_data = pd.read_csv('C:\\\\Users\\\\Ajit Wagh\\\\Desktop\\\\TimeSeries\\\\Brazilian Eccomerce Dataset\\\\olist_geolocation_dataset.csv')\n",
    "orders_data = pd.read_csv('C:\\\\Users\\\\Ajit Wagh\\\\Desktop\\\\TimeSeries\\\\Brazilian Eccomerce Dataset\\\\olist_orders_dataset.csv')\n",
    "order_item_data = pd.read_csv('C:\\\\Users\\\\Ajit Wagh\\\\Desktop\\\\TimeSeries\\\\Brazilian Eccomerce Dataset\\\\olist_order_items_dataset.csv')\n",
    "order_payments_data = pd.read_csv('C:\\\\Users\\\\Ajit Wagh\\\\Desktop\\\\TimeSeries\\\\Brazilian Eccomerce Dataset\\\\olist_order_payments_dataset.csv')\n",
    "order_reviews_data = pd.read_csv('C:\\\\Users\\\\Ajit Wagh\\\\Desktop\\\\TimeSeries\\\\Brazilian Eccomerce Dataset\\\\olist_order_reviews_dataset.csv')\n",
    "product_data = pd.read_csv('C:\\\\Users\\\\Ajit Wagh\\\\Desktop\\\\TimeSeries\\\\Brazilian Eccomerce Dataset\\\\olist_products_dataset.csv')\n",
    "sellers_data = pd.read_csv('C:\\\\Users\\\\Ajit Wagh\\\\Desktop\\\\TimeSeries\\\\Brazilian Eccomerce Dataset\\\\olist_sellers_dataset.csv')\n",
    "category_data = pd.read_csv('C:\\\\Users\\\\Ajit Wagh\\\\Desktop\\\\TimeSeries\\\\Brazilian Eccomerce Dataset\\\\product_category_name_translation.csv')"
   ]
  },
  {
   "cell_type": "markdown",
   "metadata": {},
   "source": [
    "#### Merge on required datasets"
   ]
  },
  {
   "cell_type": "code",
   "execution_count": 219,
   "metadata": {},
   "outputs": [
    {
     "data": {
      "text/plain": [
       "0    [2017-10-02, 10:56:33]\n",
       "1    [2018-07-24, 20:41:37]\n",
       "2    [2018-08-08, 08:38:49]\n",
       "3    [2017-11-18, 19:28:06]\n",
       "4    [2018-02-13, 21:18:39]\n",
       "Name: order_purchase_timestamp, dtype: object"
      ]
     },
     "execution_count": 219,
     "metadata": {},
     "output_type": "execute_result"
    }
   ],
   "source": [
    "merged_orders = pd.merge(orders_data,order_item_data, on='order_id')\n",
    "merged_products = pd.merge(merged_orders, product_data, on ='product_id')\n",
    "#separate date and time of oder purchase timestamp\n",
    "date_split= merged_orders['order_purchase_timestamp'].str.split(' ')\n",
    "date_split.head()"
   ]
  },
  {
   "cell_type": "code",
   "execution_count": 220,
   "metadata": {},
   "outputs": [
    {
     "data": {
      "text/html": [
       "<div>\n",
       "<style scoped>\n",
       "    .dataframe tbody tr th:only-of-type {\n",
       "        vertical-align: middle;\n",
       "    }\n",
       "\n",
       "    .dataframe tbody tr th {\n",
       "        vertical-align: top;\n",
       "    }\n",
       "\n",
       "    .dataframe thead th {\n",
       "        text-align: right;\n",
       "    }\n",
       "</style>\n",
       "<table border=\"1\" class=\"dataframe\">\n",
       "  <thead>\n",
       "    <tr style=\"text-align: right;\">\n",
       "      <th></th>\n",
       "      <th>order_id</th>\n",
       "      <th>customer_id</th>\n",
       "      <th>order_status</th>\n",
       "      <th>order_purchase_timestamp</th>\n",
       "      <th>order_approved_at</th>\n",
       "      <th>order_delivered_carrier_date</th>\n",
       "      <th>order_delivered_customer_date</th>\n",
       "      <th>order_estimated_delivery_date</th>\n",
       "      <th>order_item_id</th>\n",
       "      <th>product_id</th>\n",
       "      <th>seller_id</th>\n",
       "      <th>shipping_limit_date</th>\n",
       "      <th>price</th>\n",
       "      <th>freight_value</th>\n",
       "      <th>order_purchase_date</th>\n",
       "    </tr>\n",
       "  </thead>\n",
       "  <tbody>\n",
       "    <tr>\n",
       "      <th>0</th>\n",
       "      <td>e481f51cbdc54678b7cc49136f2d6af7</td>\n",
       "      <td>9ef432eb6251297304e76186b10a928d</td>\n",
       "      <td>delivered</td>\n",
       "      <td>2017-10-02 10:56:33</td>\n",
       "      <td>2017-10-02 11:07:15</td>\n",
       "      <td>2017-10-04 19:55:00</td>\n",
       "      <td>2017-10-10 21:25:13</td>\n",
       "      <td>2017-10-18 00:00:00</td>\n",
       "      <td>1</td>\n",
       "      <td>87285b34884572647811a353c7ac498a</td>\n",
       "      <td>3504c0cb71d7fa48d967e0e4c94d59d9</td>\n",
       "      <td>2017-10-06 11:07:15</td>\n",
       "      <td>29.99</td>\n",
       "      <td>8.72</td>\n",
       "      <td>2017-10-02</td>\n",
       "    </tr>\n",
       "    <tr>\n",
       "      <th>1</th>\n",
       "      <td>53cdb2fc8bc7dce0b6741e2150273451</td>\n",
       "      <td>b0830fb4747a6c6d20dea0b8c802d7ef</td>\n",
       "      <td>delivered</td>\n",
       "      <td>2018-07-24 20:41:37</td>\n",
       "      <td>2018-07-26 03:24:27</td>\n",
       "      <td>2018-07-26 14:31:00</td>\n",
       "      <td>2018-08-07 15:27:45</td>\n",
       "      <td>2018-08-13 00:00:00</td>\n",
       "      <td>1</td>\n",
       "      <td>595fac2a385ac33a80bd5114aec74eb8</td>\n",
       "      <td>289cdb325fb7e7f891c38608bf9e0962</td>\n",
       "      <td>2018-07-30 03:24:27</td>\n",
       "      <td>118.70</td>\n",
       "      <td>22.76</td>\n",
       "      <td>2018-07-24</td>\n",
       "    </tr>\n",
       "    <tr>\n",
       "      <th>2</th>\n",
       "      <td>47770eb9100c2d0c44946d9cf07ec65d</td>\n",
       "      <td>41ce2a54c0b03bf3443c3d931a367089</td>\n",
       "      <td>delivered</td>\n",
       "      <td>2018-08-08 08:38:49</td>\n",
       "      <td>2018-08-08 08:55:23</td>\n",
       "      <td>2018-08-08 13:50:00</td>\n",
       "      <td>2018-08-17 18:06:29</td>\n",
       "      <td>2018-09-04 00:00:00</td>\n",
       "      <td>1</td>\n",
       "      <td>aa4383b373c6aca5d8797843e5594415</td>\n",
       "      <td>4869f7a5dfa277a7dca6462dcf3b52b2</td>\n",
       "      <td>2018-08-13 08:55:23</td>\n",
       "      <td>159.90</td>\n",
       "      <td>19.22</td>\n",
       "      <td>2018-08-08</td>\n",
       "    </tr>\n",
       "    <tr>\n",
       "      <th>3</th>\n",
       "      <td>949d5b44dbf5de918fe9c16f97b45f8a</td>\n",
       "      <td>f88197465ea7920adcdbec7375364d82</td>\n",
       "      <td>delivered</td>\n",
       "      <td>2017-11-18 19:28:06</td>\n",
       "      <td>2017-11-18 19:45:59</td>\n",
       "      <td>2017-11-22 13:39:59</td>\n",
       "      <td>2017-12-02 00:28:42</td>\n",
       "      <td>2017-12-15 00:00:00</td>\n",
       "      <td>1</td>\n",
       "      <td>d0b61bfb1de832b15ba9d266ca96e5b0</td>\n",
       "      <td>66922902710d126a0e7d26b0e3805106</td>\n",
       "      <td>2017-11-23 19:45:59</td>\n",
       "      <td>45.00</td>\n",
       "      <td>27.20</td>\n",
       "      <td>2017-11-18</td>\n",
       "    </tr>\n",
       "    <tr>\n",
       "      <th>4</th>\n",
       "      <td>ad21c59c0840e6cb83a9ceb5573f8159</td>\n",
       "      <td>8ab97904e6daea8866dbdbc4fb7aad2c</td>\n",
       "      <td>delivered</td>\n",
       "      <td>2018-02-13 21:18:39</td>\n",
       "      <td>2018-02-13 22:20:29</td>\n",
       "      <td>2018-02-14 19:46:34</td>\n",
       "      <td>2018-02-16 18:17:02</td>\n",
       "      <td>2018-02-26 00:00:00</td>\n",
       "      <td>1</td>\n",
       "      <td>65266b2da20d04dbe00c5c2d3bb7859e</td>\n",
       "      <td>2c9e548be18521d1c43cde1c582c6de8</td>\n",
       "      <td>2018-02-19 20:31:37</td>\n",
       "      <td>19.90</td>\n",
       "      <td>8.72</td>\n",
       "      <td>2018-02-13</td>\n",
       "    </tr>\n",
       "  </tbody>\n",
       "</table>\n",
       "</div>"
      ],
      "text/plain": [
       "                           order_id                       customer_id  \\\n",
       "0  e481f51cbdc54678b7cc49136f2d6af7  9ef432eb6251297304e76186b10a928d   \n",
       "1  53cdb2fc8bc7dce0b6741e2150273451  b0830fb4747a6c6d20dea0b8c802d7ef   \n",
       "2  47770eb9100c2d0c44946d9cf07ec65d  41ce2a54c0b03bf3443c3d931a367089   \n",
       "3  949d5b44dbf5de918fe9c16f97b45f8a  f88197465ea7920adcdbec7375364d82   \n",
       "4  ad21c59c0840e6cb83a9ceb5573f8159  8ab97904e6daea8866dbdbc4fb7aad2c   \n",
       "\n",
       "  order_status order_purchase_timestamp    order_approved_at  \\\n",
       "0    delivered      2017-10-02 10:56:33  2017-10-02 11:07:15   \n",
       "1    delivered      2018-07-24 20:41:37  2018-07-26 03:24:27   \n",
       "2    delivered      2018-08-08 08:38:49  2018-08-08 08:55:23   \n",
       "3    delivered      2017-11-18 19:28:06  2017-11-18 19:45:59   \n",
       "4    delivered      2018-02-13 21:18:39  2018-02-13 22:20:29   \n",
       "\n",
       "  order_delivered_carrier_date order_delivered_customer_date  \\\n",
       "0          2017-10-04 19:55:00           2017-10-10 21:25:13   \n",
       "1          2018-07-26 14:31:00           2018-08-07 15:27:45   \n",
       "2          2018-08-08 13:50:00           2018-08-17 18:06:29   \n",
       "3          2017-11-22 13:39:59           2017-12-02 00:28:42   \n",
       "4          2018-02-14 19:46:34           2018-02-16 18:17:02   \n",
       "\n",
       "  order_estimated_delivery_date  order_item_id  \\\n",
       "0           2017-10-18 00:00:00              1   \n",
       "1           2018-08-13 00:00:00              1   \n",
       "2           2018-09-04 00:00:00              1   \n",
       "3           2017-12-15 00:00:00              1   \n",
       "4           2018-02-26 00:00:00              1   \n",
       "\n",
       "                         product_id                         seller_id  \\\n",
       "0  87285b34884572647811a353c7ac498a  3504c0cb71d7fa48d967e0e4c94d59d9   \n",
       "1  595fac2a385ac33a80bd5114aec74eb8  289cdb325fb7e7f891c38608bf9e0962   \n",
       "2  aa4383b373c6aca5d8797843e5594415  4869f7a5dfa277a7dca6462dcf3b52b2   \n",
       "3  d0b61bfb1de832b15ba9d266ca96e5b0  66922902710d126a0e7d26b0e3805106   \n",
       "4  65266b2da20d04dbe00c5c2d3bb7859e  2c9e548be18521d1c43cde1c582c6de8   \n",
       "\n",
       "   shipping_limit_date   price  freight_value order_purchase_date  \n",
       "0  2017-10-06 11:07:15   29.99           8.72          2017-10-02  \n",
       "1  2018-07-30 03:24:27  118.70          22.76          2018-07-24  \n",
       "2  2018-08-13 08:55:23  159.90          19.22          2018-08-08  \n",
       "3  2017-11-23 19:45:59   45.00          27.20          2017-11-18  \n",
       "4  2018-02-19 20:31:37   19.90           8.72          2018-02-13  "
      ]
     },
     "execution_count": 220,
     "metadata": {},
     "output_type": "execute_result"
    }
   ],
   "source": [
    "merged_orders['order_purchase_date']=date_split.str.get(0)\n",
    "merged_orders.head()"
   ]
  },
  {
   "cell_type": "code",
   "execution_count": 221,
   "metadata": {},
   "outputs": [],
   "source": [
    "# Creating column and shortening the product id\n",
    "merged_orders[\"order_purchase_date\"]= pd.to_datetime(merged_orders[\"order_purchase_date\"])\n",
    "merged_products['product_id_shorten']=merged_products['product_id'].str[-8:]"
   ]
  },
  {
   "cell_type": "code",
   "execution_count": 222,
   "metadata": {},
   "outputs": [
    {
     "name": "stdout",
     "output_type": "stream",
     "text": [
      "<class 'pandas.core.frame.DataFrame'>\n",
      "Int64Index: 112650 entries, 0 to 112649\n",
      "Data columns (total 10 columns):\n",
      " #   Column                  Non-Null Count   Dtype  \n",
      "---  ------                  --------------   -----  \n",
      " 0   order_id                112650 non-null  object \n",
      " 1   order_item_id           112650 non-null  int64  \n",
      " 2   product_id              112650 non-null  object \n",
      " 3   seller_id               112650 non-null  object \n",
      " 4   shipping_limit_date     112650 non-null  object \n",
      " 5   price                   112650 non-null  float64\n",
      " 6   freight_value           112650 non-null  float64\n",
      " 7   seller_zip_code_prefix  112650 non-null  int64  \n",
      " 8   seller_city             112650 non-null  object \n",
      " 9   seller_state            112650 non-null  object \n",
      "dtypes: float64(2), int64(2), object(6)\n",
      "memory usage: 9.5+ MB\n"
     ]
    }
   ],
   "source": [
    "# Merge on Seller data\n",
    "seller_products = pd.merge(order_item_data, sellers_data, on=\"seller_id\")\n",
    "seller_products.info()"
   ]
  },
  {
   "cell_type": "code",
   "execution_count": 223,
   "metadata": {},
   "outputs": [],
   "source": [
    "date_split1= merged_products['order_purchase_timestamp'].str.split(' ')\n",
    "merged_products['order_purchase_date']=date_split.str.get(0)"
   ]
  },
  {
   "cell_type": "code",
   "execution_count": 206,
   "metadata": {},
   "outputs": [
    {
     "name": "stderr",
     "output_type": "stream",
     "text": [
      "<ipython-input-206-d5458c165cd5>:2: SettingWithCopyWarning: \n",
      "A value is trying to be set on a copy of a slice from a DataFrame.\n",
      "Try using .loc[row_indexer,col_indexer] = value instead\n",
      "\n",
      "See the caveats in the documentation: https://pandas.pydata.org/pandas-docs/stable/user_guide/indexing.html#returning-a-view-versus-a-copy\n",
      "  forecast[\"product_category_id\"] = forecast.apply(lambda x: f\"{x['product_category_name']}_{x['product_id_shorten']}\", axis=1)\n"
     ]
    }
   ],
   "source": [
    "forecast = merged_products[['order_purchase_date','product_category_name','product_id_shorten','price']]\n",
    "forecast[\"product_category_id\"] = forecast.apply(lambda x: f\"{x['product_category_name']}_{x['product_id_shorten']}\", axis=1)\n",
    "forecast1 = forecast\n",
    "forecast2 = forecast1.dropna()\n",
    "forecast3 = forecast2.groupby(['order_purchase_date', 'product_category_name'])['price'].mean().reset_index()"
   ]
  },
  {
   "cell_type": "code",
   "execution_count": 209,
   "metadata": {},
   "outputs": [
    {
     "data": {
      "text/plain": [
       "Index(['order_purchase_date', 'product_category_name', 'price'], dtype='object')"
      ]
     },
     "execution_count": 209,
     "metadata": {},
     "output_type": "execute_result"
    }
   ],
   "source": [
    "forecast3.columns"
   ]
  },
  {
   "cell_type": "code",
   "execution_count": 212,
   "metadata": {},
   "outputs": [],
   "source": [
    "list_df = ['utilidades_domesticas', 'perfumaria', 'automotivo', 'pet_shop',\n",
    "       'papelaria', 'moveis_decoracao', 'moveis_escritorio',\n",
    "       'ferramentas_jardim', 'informatica_acessorios', 'cama_mesa_banho',\n",
    "       'brinquedos', 'construcao_ferramentas_construcao', 'telefonia',\n",
    "       'beleza_saude', 'eletronicos', 'bebes', 'cool_stuff',\n",
    "       'relogios_presentes', 'climatizacao', 'esporte_lazer',\n",
    "       'livros_interesse_geral', 'eletroportateis', 'alimentos',\n",
    "       'malas_acessorios', 'fashion_underwear_e_moda_praia',\n",
    "       'artigos_de_natal', 'fashion_bolsas_e_acessorios',\n",
    "       'instrumentos_musicais', 'construcao_ferramentas_iluminacao',\n",
    "       'livros_tecnicos', 'construcao_ferramentas_jardim',\n",
    "       'eletrodomesticos', 'market_place', 'agro_industria_e_comercio',\n",
    "       'artigos_de_festas', 'casa_conforto', 'cds_dvds_musicais',\n",
    "       'industria_comercio_e_negocios', 'consoles_games', 'moveis_quarto',\n",
    "       'construcao_ferramentas_seguranca', 'telefonia_fixa', 'bebidas',\n",
    "       'moveis_cozinha_area_de_servico_jantar_e_jardim',\n",
    "       'fashion_calcados', 'casa_construcao', 'audio',\n",
    "       'eletrodomesticos_2', 'fashion_roupa_masculina', 'cine_foto',\n",
    "       'moveis_sala', 'artes', 'alimentos_bebidas',\n",
    "       'tablets_impressao_imagem', 'fashion_esporte',\n",
    "       'portateis_cozinha_e_preparadores_de_alimentos', 'la_cuisine',\n",
    "       'flores', 'pcs', 'casa_conforto_2', 'portateis_casa_forno_e_cafe',\n",
    "       'dvds_blu_ray', 'pc_gamer', 'construcao_ferramentas_ferramentas',\n",
    "       'fashion_roupa_feminina', 'moveis_colchao_e_estofado',\n",
    "       'sinalizacao_e_seguranca', 'fraldas_higiene', 'livros_importados',\n",
    "       'fashion_roupa_infanto_juvenil', 'musica', 'artes_e_artesanato',\n",
    "       'seguros_e_servicos']"
   ]
  },
  {
   "cell_type": "code",
   "execution_count": 217,
   "metadata": {},
   "outputs": [
    {
     "name": "stderr",
     "output_type": "stream",
     "text": [
      "<ipython-input-217-c0c0492bb073>:5: SettingWithCopyWarning: \n",
      "A value is trying to be set on a copy of a slice from a DataFrame.\n",
      "Try using .loc[row_indexer,col_indexer] = value instead\n",
      "\n",
      "See the caveats in the documentation: https://pandas.pydata.org/pandas-docs/stable/user_guide/indexing.html#returning-a-view-versus-a-copy\n",
      "  new_df['order_purchase_date'] = new_df['order_purchase_date'].str[:7]\n"
     ]
    },
    {
     "name": "stdout",
     "output_type": "stream",
     "text": [
      "length of utilidades_domesticas: 21\n",
      "length of perfumaria: 21\n",
      "length of automotivo: 21\n",
      "length of pet_shop: 21\n",
      "length of papelaria: 21\n",
      "length of moveis_decoracao: 22\n",
      "length of moveis_escritorio: 21\n",
      "length of ferramentas_jardim: 22\n",
      "length of informatica_acessorios: 22\n",
      "length of cama_mesa_banho: 22\n",
      "length of brinquedos: 21\n",
      "length of construcao_ferramentas_construcao: 21\n",
      "length of telefonia: 21\n",
      "length of beleza_saude: 21\n",
      "length of eletronicos: 21\n",
      "length of bebes: 21\n",
      "length of cool_stuff: 21\n",
      "length of relogios_presentes: 21\n",
      "length of climatizacao: 21\n",
      "length of esporte_lazer: 22\n",
      "length of livros_interesse_geral: 21\n",
      "length of eletroportateis: 20\n",
      "length of alimentos: 20\n",
      "length of malas_acessorios: 21\n",
      "length of fashion_underwear_e_moda_praia: 20\n",
      "length of artigos_de_natal: 19\n",
      "length of fashion_bolsas_e_acessorios: 21\n",
      "length of instrumentos_musicais: 21\n",
      "length of construcao_ferramentas_iluminacao: 21\n",
      "length of livros_tecnicos: 20\n",
      "length of construcao_ferramentas_jardim: 20\n",
      "length of eletrodomesticos: 21\n",
      "length of market_place: 21\n",
      "length of agro_industria_e_comercio: 21\n",
      "length of artigos_de_festas: 16\n",
      "length of casa_conforto: 20\n",
      "length of cds_dvds_musicais: 10\n",
      "length of industria_comercio_e_negocios: 20\n",
      "length of consoles_games: 21\n",
      "length of moveis_quarto: 20\n",
      "length of construcao_ferramentas_seguranca: 18\n",
      "length of telefonia_fixa: 21\n",
      "length of bebidas: 19\n",
      "length of moveis_cozinha_area_de_servico_jantar_e_jardim: 20\n",
      "length of fashion_calcados: 20\n",
      "length of casa_construcao: 21\n",
      "length of audio: 20\n",
      "length of eletrodomesticos_2: 21\n",
      "length of fashion_roupa_masculina: 20\n",
      "length of cine_foto: 18\n",
      "length of moveis_sala: 20\n",
      "length of artes: 21\n",
      "length of alimentos_bebidas: 21\n",
      "length of tablets_impressao_imagem: 18\n",
      "length of fashion_esporte: 13\n",
      "length of portateis_cozinha_e_preparadores_de_alimentos: 8\n",
      "length of la_cuisine: 10\n",
      "length of flores: 14\n",
      "length of pcs: 20\n",
      "length of casa_conforto_2: 15\n",
      "length of portateis_casa_forno_e_cafe: 16\n",
      "length of dvds_blu_ray: 17\n",
      "length of pc_gamer: 3\n",
      "length of construcao_ferramentas_ferramentas: 19\n",
      "length of fashion_roupa_feminina: 16\n",
      "length of moveis_colchao_e_estofado: 17\n",
      "length of sinalizacao_e_seguranca: 20\n",
      "length of fraldas_higiene: 16\n",
      "length of livros_importados: 17\n",
      "length of fashion_roupa_infanto_juvenil: 7\n",
      "length of musica: 16\n",
      "length of artes_e_artesanato: 9\n",
      "length of seguros_e_servicos: 2\n"
     ]
    }
   ],
   "source": [
    "# Fuction to extract data on product categories\n",
    "def extract_df(list_df, forecast3):\n",
    "    for i in list_df:\n",
    "        new_df = forecast3[forecast3['product_category_name'] == i]\n",
    "        new_df['order_purchase_date'] = new_df['order_purchase_date'].str[:7]\n",
    "        new_df = new_df.groupby('order_purchase_date')['price'].mean().reset_index()\n",
    "        new_df['order_purchase_date']=pd.to_datetime(new_df['order_purchase_date'], errors='coerce')\n",
    "        new_df['product_category_name'] = i\n",
    "        new_df = new_df[['order_purchase_date','product_category_name','price']]\n",
    "        new_df.to_csv('C:\\\\Users\\\\Ajit Wagh\\\\Desktop\\\\TimeSeries\\\\new_categories\\\\new_files\\\\monthly_product_category_input\\\\'+str(i)+'.csv', index=False)\n",
    "        print(\"length of \" +str(i)+\":\", len(new_df))\n",
    "        \n",
    "extract_df(list_df, forecast3)"
   ]
  },
  {
   "cell_type": "code",
   "execution_count": null,
   "metadata": {},
   "outputs": [],
   "source": []
  }
 ],
 "metadata": {
  "kernelspec": {
   "display_name": "Python 3",
   "language": "python",
   "name": "python3"
  },
  "language_info": {
   "codemirror_mode": {
    "name": "ipython",
    "version": 3
   },
   "file_extension": ".py",
   "mimetype": "text/x-python",
   "name": "python",
   "nbconvert_exporter": "python",
   "pygments_lexer": "ipython3",
   "version": "3.8.5"
  }
 },
 "nbformat": 4,
 "nbformat_minor": 4
}
