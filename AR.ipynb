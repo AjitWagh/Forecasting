{
 "cells": [
  {
   "cell_type": "markdown",
   "metadata": {},
   "source": [
    "## AR Model : \n",
    "An autoregressive (AR) model predicts future behavior based on past behavior. \n",
    "It's used for forecasting when there is some correlation between values in a time series and the values that precede and succeed them."
   ]
  },
  {
   "cell_type": "code",
   "execution_count": 82,
   "metadata": {},
   "outputs": [],
   "source": [
    "#!pip install statsmodels --upgrade"
   ]
  },
  {
   "cell_type": "code",
   "execution_count": 32,
   "metadata": {},
   "outputs": [],
   "source": [
    "import pandas as pd\n",
    "import numpy as np\n",
    "from matplotlib import pyplot\n",
    "from statsmodels.tsa.ar_model import AutoReg"
   ]
  },
  {
   "cell_type": "markdown",
   "metadata": {},
   "source": [
    "## Import Data"
   ]
  },
  {
   "cell_type": "code",
   "execution_count": 60,
   "metadata": {},
   "outputs": [
    {
     "data": {
      "text/html": [
       "<div>\n",
       "<style scoped>\n",
       "    .dataframe tbody tr th:only-of-type {\n",
       "        vertical-align: middle;\n",
       "    }\n",
       "\n",
       "    .dataframe tbody tr th {\n",
       "        vertical-align: top;\n",
       "    }\n",
       "\n",
       "    .dataframe thead th {\n",
       "        text-align: right;\n",
       "    }\n",
       "</style>\n",
       "<table border=\"1\" class=\"dataframe\">\n",
       "  <thead>\n",
       "    <tr style=\"text-align: right;\">\n",
       "      <th></th>\n",
       "      <th>Temp</th>\n",
       "    </tr>\n",
       "    <tr>\n",
       "      <th>Date</th>\n",
       "      <th></th>\n",
       "    </tr>\n",
       "  </thead>\n",
       "  <tbody>\n",
       "    <tr>\n",
       "      <th>1981-01-01</th>\n",
       "      <td>20.7</td>\n",
       "    </tr>\n",
       "    <tr>\n",
       "      <th>1981-02-01</th>\n",
       "      <td>17.9</td>\n",
       "    </tr>\n",
       "    <tr>\n",
       "      <th>1981-03-01</th>\n",
       "      <td>18.8</td>\n",
       "    </tr>\n",
       "    <tr>\n",
       "      <th>1981-04-01</th>\n",
       "      <td>14.6</td>\n",
       "    </tr>\n",
       "    <tr>\n",
       "      <th>1981-05-01</th>\n",
       "      <td>15.8</td>\n",
       "    </tr>\n",
       "  </tbody>\n",
       "</table>\n",
       "</div>"
      ],
      "text/plain": [
       "            Temp\n",
       "Date            \n",
       "1981-01-01  20.7\n",
       "1981-02-01  17.9\n",
       "1981-03-01  18.8\n",
       "1981-04-01  14.6\n",
       "1981-05-01  15.8"
      ]
     },
     "execution_count": 60,
     "metadata": {},
     "output_type": "execute_result"
    }
   ],
   "source": [
    "df = pd.read_csv('C:\\\\Users\\\\Ajit Wagh\\\\Desktop\\\\TimeSeries\\\\daily-min-temperatures.csv', index_col=0,parse_dates=True)\n",
    "df.head()"
   ]
  },
  {
   "cell_type": "code",
   "execution_count": 61,
   "metadata": {},
   "outputs": [
    {
     "name": "stdout",
     "output_type": "stream",
     "text": [
      "Shape of data \t (3650, 1)\n",
      "Original Dataset:\n",
      "             Temp\n",
      "Date            \n",
      "1981-01-01  20.7\n",
      "1981-02-01  17.9\n",
      "1981-03-01  18.8\n",
      "1981-04-01  14.6\n",
      "1981-05-01  15.8\n",
      "After extracting only temperature:\n",
      " [[20.7]\n",
      " [17.9]\n",
      " [18.8]\n",
      " ...\n",
      " [13.5]\n",
      " [15.7]\n",
      " [13. ]]\n"
     ]
    }
   ],
   "source": [
    "X=df.values\n",
    "print('Shape of data \\t',df.shape)\n",
    "print('Original Dataset:\\n', df.head())\n",
    "print('After extracting only temperature:\\n', X)"
   ]
  },
  {
   "cell_type": "code",
   "execution_count": 64,
   "metadata": {},
   "outputs": [
    {
     "data": {
      "text/plain": [
       "<AxesSubplot:xlabel='Date'>"
      ]
     },
     "execution_count": 64,
     "metadata": {},
     "output_type": "execute_result"
    },
    {
     "data": {
      "image/png": "[encoded data removed]",
      "text/plain": [
       "<Figure size 432x288 with 1 Axes>"
      ]
     },
     "metadata": {
      "needs_background": "light"
     },
     "output_type": "display_data"
    }
   ],
   "source": [
    "df.plot()"
   ]
  },
  {
   "cell_type": "markdown",
   "metadata": {},
   "source": [
    "# Check for stationarity"
   ]
  },
  {
   "cell_type": "code",
   "execution_count": 65,
   "metadata": {},
   "outputs": [
    {
     "name": "stdout",
     "output_type": "stream",
     "text": [
      "1. ADF :  -4.444804924611681\n",
      "2. P-Value :  0.00024708263003611787\n",
      "3. Num of Lags :  20\n",
      "4. Num of observations used for ADF Regression and Critical Values Calculation :  3629\n",
      "\t 1% : -3.4321532327220154\n",
      "\t 5% : -2.862336767636517\n",
      "\t 10% : -2.56719413172842\n"
     ]
    }
   ],
   "source": [
    "from statsmodels.tsa.stattools import adfuller\n",
    "\n",
    "dftest = adfuller(df['Temp'], autolag = 'AIC')\n",
    "\n",
    "print(\"1. ADF : \",dftest[0])\n",
    "print(\"2. P-Value : \",dftest[1])\n",
    "print(\"3. Num of Lags : \",dftest[2])\n",
    "print(\"4. Num of observations used for ADF Regression and Critical Values Calculation : \",dftest[3])\n",
    "for key, val in dftest[4].items():\n",
    "    print(\"\\t\",key, \":\", val)\n"
   ]
  },
  {
   "cell_type": "code",
   "execution_count": 67,
   "metadata": {},
   "outputs": [
    {
     "data": {
      "image/png": "[encoded data removed]",
      "text/plain": [
       "<Figure size 432x288 with 1 Axes>"
      ]
     },
     "metadata": {
      "needs_background": "light"
     },
     "output_type": "display_data"
    },
    {
     "data": {
      "image/png": "[encoded data removed]",
      "text/plain": [
       "<Figure size 432x288 with 1 Axes>"
      ]
     },
     "metadata": {
      "needs_background": "light"
     },
     "output_type": "display_data"
    }
   ],
   "source": [
    "from statsmodels.graphics.tsaplots import plot_pacf, plot_acf\n",
    "pacf = plot_pacf(df['Temp'],lags=25)\n",
    "acf = plot_acf(df['Temp'],lags=25)"
   ]
  },
  {
   "cell_type": "markdown",
   "metadata": {},
   "source": [
    "# Split the data into train and test :Testing: Last 7 days"
   ]
  },
  {
   "cell_type": "code",
   "execution_count": 69,
   "metadata": {},
   "outputs": [],
   "source": [
    "train=X[:len(X)-7]\n",
    "test=X[len(X)-7:]"
   ]
  },
  {
   "cell_type": "code",
   "execution_count": 70,
   "metadata": {},
   "outputs": [
    {
     "name": "stderr",
     "output_type": "stream",
     "text": [
      "C:\\Users\\Ajit Wagh\\anaconda3\\lib\\site-packages\\statsmodels\\tsa\\ar_model.py:248: FutureWarning: The parameter names will change after 0.12 is released. Set old_names to False to use the new names now. Set old_names to True to use the old names. \n",
      "  warnings.warn(\n"
     ]
    }
   ],
   "source": [
    "model=AutoReg(train,lags=10).fit()"
   ]
  },
  {
   "cell_type": "code",
   "execution_count": 71,
   "metadata": {},
   "outputs": [
    {
     "name": "stdout",
     "output_type": "stream",
     "text": [
      "                            AutoReg Model Results                             \n",
      "==============================================================================\n",
      "Dep. Variable:                      y   No. Observations:                 3643\n",
      "Model:                    AutoReg(10)   Log Likelihood               -8375.514\n",
      "Method:               Conditional MLE   S.D. of innovations              2.427\n",
      "Date:                Fri, 07 May 2021   AIC                              1.780\n",
      "Time:                        15:13:00   BIC                              1.800\n",
      "Sample:                            10   HQIC                             1.787\n",
      "                                 3643                                         \n",
      "==============================================================================\n",
      "                 coef    std err          z      P>|z|      [0.025      0.975]\n",
      "------------------------------------------------------------------------------\n",
      "intercept      0.9350      0.142      6.603      0.000       0.657       1.213\n",
      "y.L1           0.6103      0.017     36.795      0.000       0.578       0.643\n",
      "y.L2          -0.0832      0.019     -4.289      0.000      -0.121      -0.045\n",
      "y.L3           0.0631      0.019      3.246      0.001       0.025       0.101\n",
      "y.L4           0.0512      0.019      2.632      0.008       0.013       0.089\n",
      "y.L5           0.0547      0.019      2.810      0.005       0.017       0.093\n",
      "y.L6           0.0422      0.019      2.166      0.030       0.004       0.080\n",
      "y.L7           0.0590      0.019      3.032      0.002       0.021       0.097\n",
      "y.L8           0.0324      0.019      1.664      0.096      -0.006       0.070\n",
      "y.L9           0.0502      0.019      2.585      0.010       0.012       0.088\n",
      "y.L10          0.0360      0.017      2.175      0.030       0.004       0.069\n",
      "                                    Roots                                     \n",
      "==============================================================================\n",
      "                   Real          Imaginary           Modulus         Frequency\n",
      "------------------------------------------------------------------------------\n",
      "AR.1             1.0275           -0.0000j            1.0275           -0.0000\n",
      "AR.2             0.9811           -0.7934j            1.2617           -0.1082\n",
      "AR.3             0.9811           +0.7934j            1.2617            0.1082\n",
      "AR.4             0.4192           -1.3007j            1.3665           -0.2004\n",
      "AR.5             0.4192           +1.3007j            1.3665            0.2004\n",
      "AR.6            -0.4338           -1.3906j            1.4567           -0.2981\n",
      "AR.7            -0.4338           +1.3906j            1.4567            0.2981\n",
      "AR.8            -1.3012           -0.8676j            1.5639           -0.4064\n",
      "AR.9            -1.3012           +0.8676j            1.5639            0.4064\n",
      "AR.10           -1.7501           -0.0000j            1.7501           -0.5000\n",
      "------------------------------------------------------------------------------\n"
     ]
    }
   ],
   "source": [
    "print(model.summary())"
   ]
  },
  {
   "cell_type": "code",
   "execution_count": 72,
   "metadata": {},
   "outputs": [
    {
     "name": "stdout",
     "output_type": "stream",
     "text": [
      "3643\n"
     ]
    }
   ],
   "source": [
    "print(len(train))"
   ]
  },
  {
   "cell_type": "markdown",
   "metadata": {},
   "source": [
    "# Make Predictions on test set and Compare"
   ]
  },
  {
   "cell_type": "code",
   "execution_count": 73,
   "metadata": {},
   "outputs": [],
   "source": [
    "pred=model.predict(start=len(train), end=len(X)-1, dynamic=False)"
   ]
  },
  {
   "cell_type": "code",
   "execution_count": 74,
   "metadata": {},
   "outputs": [
    {
     "name": "stdout",
     "output_type": "stream",
     "text": [
      "[11.47679312 12.63726604 13.0574664  13.03378918 12.8259307  12.65767226\n",
      " 12.43273596]\n"
     ]
    },
    {
     "data": {
      "image/png": "[encoded data removed]",
      "text/plain": [
       "<Figure size 432x288 with 1 Axes>"
      ]
     },
     "metadata": {
      "needs_background": "light"
     },
     "output_type": "display_data"
    }
   ],
   "source": [
    "from matplotlib import pyplot\n",
    "pyplot.plot(pred)\n",
    "pyplot.plot(test, color='red')\n",
    "print(pred)"
   ]
  },
  {
   "cell_type": "markdown",
   "metadata": {},
   "source": [
    "# Calculate Error"
   ]
  },
  {
   "cell_type": "code",
   "execution_count": 75,
   "metadata": {},
   "outputs": [],
   "source": [
    "from math import sqrt\n",
    "from sklearn.metrics import mean_squared_error\n",
    "rmse=sqrt(mean_squared_error(test,pred))"
   ]
  },
  {
   "cell_type": "code",
   "execution_count": 77,
   "metadata": {},
   "outputs": [
    {
     "name": "stdout",
     "output_type": "stream",
     "text": [
      "1.5638196220860605\n"
     ]
    }
   ],
   "source": [
    "print(rmse)"
   ]
  },
  {
   "cell_type": "markdown",
   "metadata": {},
   "source": [
    "# Making Future Predictions"
   ]
  },
  {
   "cell_type": "code",
   "execution_count": 78,
   "metadata": {},
   "outputs": [
    {
     "name": "stdout",
     "output_type": "stream",
     "text": [
      "The future prediction for the next week\n",
      "[12.28608804 12.20309536 12.24915916 12.30618875 12.31199689 12.27225975\n",
      " 12.21843712]\n",
      "Number of predictions made: \t 7\n"
     ]
    }
   ],
   "source": [
    "pred_future=model.predict(start=len(X)+1, end=len(X)+7, dynamic=False)\n",
    "print(\"The future prediction for the next week\")\n",
    "print(pred_future)\n",
    "print('Number of predictions made: \\t', len(pred_future))"
   ]
  },
  {
   "cell_type": "code",
   "execution_count": null,
   "metadata": {},
   "outputs": [],
   "source": []
  },
  {
   "cell_type": "code",
   "execution_count": null,
   "metadata": {},
   "outputs": [],
   "source": []
  }
 ],
 "metadata": {
  "kernelspec": {
   "display_name": "Python 3",
   "language": "python",
   "name": "python3"
  },
  "language_info": {
   "codemirror_mode": {
    "name": "ipython",
    "version": 3
   },
   "file_extension": ".py",
   "mimetype": "text/x-python",
   "name": "python",
   "nbconvert_exporter": "python",
   "pygments_lexer": "ipython3",
   "version": "3.8.5"
  }
 },
 "nbformat": 4,
 "nbformat_minor": 4
}
